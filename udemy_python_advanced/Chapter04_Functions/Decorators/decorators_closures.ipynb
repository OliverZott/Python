{
 "cells": [
  {
   "attachments": {},
   "cell_type": "markdown",
   "metadata": {},
   "source": [
    "# Closure\n",
    "\n",
    "- closure is an inner function that has access to variables in the local scope of the outer function"
   ]
  },
  {
   "cell_type": "code",
   "execution_count": 16,
   "metadata": {},
   "outputs": [],
   "source": [
    "import time\n",
    "from functools import wraps\n"
   ]
  },
  {
   "cell_type": "code",
   "execution_count": 17,
   "metadata": {},
   "outputs": [],
   "source": [
    "def outer_func(message):\n",
    "    outer_message = f\"Outer: {message}\"\n",
    "    current_time = time.strftime(\"%H:%M / %Y-%m-%d\")\n",
    "\n",
    "    def inner_func():\n",
    "        print(f\"Inner: '{outer_message}'\")\n",
    "        print(f\"urrent time: {current_time}\")\n",
    "\n",
    "    return inner_func()  # call inner function in outer function\n"
   ]
  },
  {
   "cell_type": "code",
   "execution_count": 18,
   "metadata": {},
   "outputs": [
    {
     "name": "stdout",
     "output_type": "stream",
     "text": [
      "Inner: 'Outer: Hello there :)'\n",
      "urrent time: 16:22 / 2023-06-28\n"
     ]
    }
   ],
   "source": [
    "outer_func(\"Hello there :)\")\n"
   ]
  },
  {
   "attachments": {},
   "cell_type": "markdown",
   "metadata": {},
   "source": [
    "# Decorator\n",
    "\n",
    "- wraps a function by another function and modifies its behavior\n",
    "- takes a function (a *callable*) as an argument, returns a **closure**\n",
    "- the closure runs the previous passed-in function with ***args** and ****kwargs** argumnets\n",
    "- two ways to use decorator syntax\n",
    "    - `@decorator` syntax\n",
    "    - `decorator(func)` syntax\n",
    "- decorator is a function that takes another function as an argument and adds some kind of functionality and then returns another function"
   ]
  },
  {
   "attachments": {},
   "cell_type": "markdown",
   "metadata": {},
   "source": [
    "## Motivational example"
   ]
  },
  {
   "cell_type": "code",
   "execution_count": 19,
   "metadata": {},
   "outputs": [],
   "source": [
    "# simple motivation example (function does nothing)\n",
    "def outer_fn(fn):\n",
    "    def inner_fn():\n",
    "        fn_result = fn()\n",
    "        return fn_result\n",
    "\n",
    "    return inner_fn  # the closure is returned, NOT called\n",
    "\n",
    "\n",
    "def print_hello():\n",
    "    print(\"Hello\")"
   ]
  },
  {
   "cell_type": "code",
   "execution_count": 20,
   "metadata": {},
   "outputs": [
    {
     "name": "stdout",
     "output_type": "stream",
     "text": [
      "Hello\n"
     ]
    }
   ],
   "source": [
    "# 1. kind of using a decorator\n",
    "decorated_print_hello = outer_fn(print_hello)\n",
    "decorated_print_hello()\n"
   ]
  },
  {
   "attachments": {},
   "cell_type": "markdown",
   "metadata": {},
   "source": [
    "## Simple decorator (non-functional)"
   ]
  },
  {
   "cell_type": "code",
   "execution_count": 21,
   "metadata": {},
   "outputs": [],
   "source": [
    "def decorator(fn):\n",
    "    print(f\"Start decorator for function: {fn.__name__}\")\n",
    "\n",
    "    def wrapper(*args, **kwargs):\n",
    "        print(f\"Start wrapper for function: {fn.__name__}\")\n",
    "        fn_result = fn(*args, **kwargs)\n",
    "        print(f\"End wrapper for function: {fn.__name__}\")\n",
    "        return fn_result\n",
    "\n",
    "    print(f\"End decorator for function: {fn.__name__}\")\n",
    "    return wrapper"
   ]
  },
  {
   "cell_type": "code",
   "execution_count": 22,
   "metadata": {},
   "outputs": [
    {
     "name": "stdout",
     "output_type": "stream",
     "text": [
      "Start decorator for function: print_hello\n",
      "End decorator for function: print_hello\n",
      "<class 'function'>\n"
     ]
    }
   ],
   "source": [
    "decorated_print_hello = decorator(print_hello)\n",
    "\n",
    "print(type(decorated_print_hello))\n"
   ]
  },
  {
   "cell_type": "code",
   "execution_count": 23,
   "metadata": {},
   "outputs": [
    {
     "name": "stdout",
     "output_type": "stream",
     "text": [
      "Start wrapper for function: print_hello\n",
      "Hello\n",
      "End wrapper for function: print_hello\n",
      "Start wrapper for function: print_hello\n",
      "Hello\n",
      "End wrapper for function: print_hello\n",
      "<class 'NoneType'>\n"
     ]
    }
   ],
   "source": [
    "decorated_print_hello()\n",
    "print(type(decorated_print_hello()))\n"
   ]
  },
  {
   "attachments": {},
   "cell_type": "markdown",
   "metadata": {},
   "source": [
    "## Functional Decorator"
   ]
  },
  {
   "cell_type": "code",
   "execution_count": 24,
   "metadata": {},
   "outputs": [],
   "source": [
    "def print_args(a, b, c=None):\n",
    "    print(f\"A: {a}, B: {b}, C: {c}\")\n"
   ]
  },
  {
   "cell_type": "code",
   "execution_count": 25,
   "metadata": {},
   "outputs": [
    {
     "name": "stdout",
     "output_type": "stream",
     "text": [
      "Start decorator for function: print_args\n",
      "End decorator for function: print_args\n",
      "Start wrapper for function: print_args\n",
      "A: 1, B: 2, C: 3\n",
      "End wrapper for function: print_args\n"
     ]
    }
   ],
   "source": [
    "decorated_print_args = decorator(print_args)\n",
    "decorated_print_args(1, 2, 3)\n"
   ]
  },
  {
   "cell_type": "markdown",
   "metadata": {},
   "source": [
    "## Easier decorator usage\n",
    "\n",
    "- `@decorator` syntax"
   ]
  },
  {
   "cell_type": "code",
   "execution_count": 26,
   "metadata": {},
   "outputs": [
    {
     "name": "stdout",
     "output_type": "stream",
     "text": [
      "Start decorator for function: print_args2\n",
      "End decorator for function: print_args2\n"
     ]
    }
   ],
   "source": [
    "@decorator\n",
    "def print_args2(a, b, c=None):\n",
    "    print(f\"A: {a}, B: {b}, C: {c}\")\n"
   ]
  },
  {
   "cell_type": "code",
   "execution_count": 27,
   "metadata": {},
   "outputs": [
    {
     "name": "stdout",
     "output_type": "stream",
     "text": [
      "Start wrapper for function: print_args2\n",
      "A: 2, B: 3, C: 4\n",
      "End wrapper for function: print_args2\n"
     ]
    }
   ],
   "source": [
    "print_args2(2, 3, 4)\n"
   ]
  }
 ],
 "metadata": {
  "kernelspec": {
   "display_name": ".venv",
   "language": "python",
   "name": "python3"
  },
  "language_info": {
   "codemirror_mode": {
    "name": "ipython",
    "version": 3
   },
   "file_extension": ".py",
   "mimetype": "text/x-python",
   "name": "python",
   "nbconvert_exporter": "python",
   "pygments_lexer": "ipython3",
   "version": "3.10.8"
  },
  "orig_nbformat": 4
 },
 "nbformat": 4,
 "nbformat_minor": 2
}
