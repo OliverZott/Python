{
 "cells": [
  {
   "attachments": {},
   "cell_type": "markdown",
   "metadata": {},
   "source": [
    "# Decorator Examples\n",
    "\n",
    "- `@wraps` decorator from `functools` module is used to preserve the metadata of the original function\n",
    "    - https://docs.python.org/3/library/functools.html#functools.wraps\n",
    "    - https://stackoverflow.com/questions/308999/what-does-functools-wraps-do\n",
    "- decorators can be stacked \n",
    "    - care for order of execution\n",
    "- Decorators with arguments\n",
    "    - https://realpython.com/primer-on-python-decorators/#decorators-with-arguments\n",
    "- Default Decorators\n",
    "    - from decorators import debug, timer\n"
   ]
  },
  {
   "cell_type": "code",
   "execution_count": 134,
   "metadata": {},
   "outputs": [],
   "source": [
    "import time\n",
    "from functools import wraps"
   ]
  },
  {
   "attachments": {},
   "cell_type": "markdown",
   "metadata": {},
   "source": [
    "## Debug Decorator"
   ]
  },
  {
   "cell_type": "code",
   "execution_count": 135,
   "metadata": {},
   "outputs": [],
   "source": [
    "def debug(fn):\n",
    "    \"\"\"\n",
    "    Debugger decorator\n",
    "    \"\"\"\n",
    "\n",
    "    # @wraps is itself a decorator which copies over the original parameters of funtion fn\n",
    "    #   - e.g. name, docstring\n",
    "    @wraps(fn)\n",
    "    def debugger(*args, **kwargs):\n",
    "        \"\"\"\n",
    "        Closure of decorator, running args of passed function\n",
    "        \"\"\"\n",
    "        print(f\"Args: {args}\")\n",
    "        print(f\"Kwargs: {kwargs}\")\n",
    "        print(f\"Function '{fn.__name__}' called.\")\n",
    "        fn_result = fn(*args, **kwargs)\n",
    "        print(f\"Function {fn.__name__} returns {fn_result}\")\n",
    "        return fn_result\n",
    "    return debugger"
   ]
  },
  {
   "cell_type": "code",
   "execution_count": 136,
   "metadata": {},
   "outputs": [],
   "source": [
    "@debug\n",
    "def do_something1(a, b, c=None):\n",
    "    \"\"\"\n",
    "    Dummy function 1\n",
    "    \"\"\"\n",
    "    return a+b if c else 0\n",
    "\n",
    "\n",
    "@debug\n",
    "def do_something(a, b, c=None):\n",
    "    \"\"\"\n",
    "    Dummy function 2\n",
    "    \"\"\"\n",
    "    return a-b if c else 0"
   ]
  },
  {
   "cell_type": "code",
   "execution_count": 137,
   "metadata": {},
   "outputs": [
    {
     "name": "stdout",
     "output_type": "stream",
     "text": [
      "Args: (12, 5)\n",
      "Kwargs: {'c': 1}\n",
      "Function 'do_something1' called.\n",
      "Function do_something1 returns 17\n",
      "do_something1\n",
      "\n",
      "    Dummy function 1\n",
      "    \n"
     ]
    }
   ],
   "source": [
    "do_something1(12, 5, c=1)\n",
    "\n",
    "# test what happen if  @wrapper is removed!!\n",
    "print(do_something1.__name__)\n",
    "print(do_something1.__doc__)"
   ]
  },
  {
   "attachments": {},
   "cell_type": "markdown",
   "metadata": {},
   "source": [
    "## Timer Decorator"
   ]
  },
  {
   "cell_type": "code",
   "execution_count": 138,
   "metadata": {},
   "outputs": [],
   "source": [
    "def timing(fn):\n",
    "    @wraps(fn)\n",
    "    def timer(*args, **kwargs):\n",
    "        print(\"Start timer\")\n",
    "        start = time.perf_counter()\n",
    "        fn_result = fn(*args, **kwargs)\n",
    "        end = time.perf_counter()\n",
    "        duration = end-start\n",
    "        print(f\"Execution of function '{fn.__name__}' took: {duration} s\")\n",
    "        return fn_result\n",
    "    return timer"
   ]
  },
  {
   "cell_type": "code",
   "execution_count": 139,
   "metadata": {},
   "outputs": [],
   "source": [
    "@timing  # timing(debug)\n",
    "@debug   # debug(iterate_stuff)\n",
    "def iterate_stuff(n):\n",
    "    result = 0\n",
    "    for i in range(n):\n",
    "        result += i\n",
    "    return result"
   ]
  },
  {
   "cell_type": "code",
   "execution_count": 140,
   "metadata": {},
   "outputs": [
    {
     "name": "stdout",
     "output_type": "stream",
     "text": [
      "Start timer\n",
      "Args: (9999999,)\n",
      "Kwargs: {}\n",
      "Function 'iterate_stuff' called.\n",
      "Function iterate_stuff returns 49999985000001\n",
      "Execution of function 'iterate_stuff' took: 1.417945499997586 s\n"
     ]
    },
    {
     "data": {
      "text/plain": [
       "49999985000001"
      ]
     },
     "execution_count": 140,
     "metadata": {},
     "output_type": "execute_result"
    }
   ],
   "source": [
    "iterate_stuff(9999999)"
   ]
  },
  {
   "attachments": {},
   "cell_type": "markdown",
   "metadata": {},
   "source": [
    "## Decorator Factory\n",
    "\n",
    "- adding arguments to decorator\n",
    "    - https://realpython.com/primer-on-python-decorators/#decorators-with-arguments"
   ]
  },
  {
   "attachments": {},
   "cell_type": "markdown",
   "metadata": {},
   "source": [
    "### Example - repeat"
   ]
  },
  {
   "cell_type": "code",
   "execution_count": 141,
   "metadata": {},
   "outputs": [],
   "source": [
    "def repeat_twice(fn):\n",
    "\n",
    "    @wraps(fn)\n",
    "    def repeat(*args, **kwargs):\n",
    "        fn(*args, **kwargs)\n",
    "        fn(*args, **kwargs)\n",
    "    return repeat"
   ]
  },
  {
   "cell_type": "code",
   "execution_count": 142,
   "metadata": {},
   "outputs": [],
   "source": [
    "@repeat_twice\n",
    "def hello_world(name):\n",
    "    print(f\"hello {name}\")"
   ]
  },
  {
   "cell_type": "code",
   "execution_count": 143,
   "metadata": {},
   "outputs": [
    {
     "name": "stdout",
     "output_type": "stream",
     "text": [
      "hello Olli\n",
      "hello Olli\n"
     ]
    }
   ],
   "source": [
    "hello_world(\"Olli\")"
   ]
  },
  {
   "cell_type": "code",
   "execution_count": 144,
   "metadata": {},
   "outputs": [],
   "source": [
    "def repeat(val):\n",
    "\n",
    "    def repeat_twice(fn):\n",
    "        @wraps(fn)\n",
    "        def repeat(*args, **kwargs):\n",
    "            for _ in range(val):\n",
    "                fn(*args, **kwargs)\n",
    "        return repeat\n",
    "    return repeat_twice"
   ]
  },
  {
   "cell_type": "code",
   "execution_count": 145,
   "metadata": {},
   "outputs": [],
   "source": [
    "@repeat(4)\n",
    "def hello_world(name):\n",
    "    print(f\"hello {name}\")"
   ]
  },
  {
   "cell_type": "code",
   "execution_count": 146,
   "metadata": {},
   "outputs": [
    {
     "name": "stdout",
     "output_type": "stream",
     "text": [
      "hello Olli\n",
      "hello Olli\n",
      "hello Olli\n",
      "hello Olli\n"
     ]
    }
   ],
   "source": [
    "hello_world(\"Olli\")"
   ]
  },
  {
   "attachments": {},
   "cell_type": "markdown",
   "metadata": {},
   "source": [
    "### Example - timing"
   ]
  },
  {
   "cell_type": "code",
   "execution_count": 147,
   "metadata": {},
   "outputs": [],
   "source": [
    "def timing_extended(use_ns=False):\n",
    "    if use_ns == True:\n",
    "        time_fn = time.perf_counter_ns\n",
    "        scale = \"ns\"\n",
    "    else:\n",
    "        time_fn = time.perf_counter\n",
    "        scale = \"s\"\n",
    "\n",
    "    def timing(fn):\n",
    "        @wraps(fn)\n",
    "        def timer(*args, **kwargs):\n",
    "            print(\"Start timer\")\n",
    "            start = time_fn()\n",
    "            fn_result = fn(*args, **kwargs)\n",
    "            end = time_fn()\n",
    "            duration = end-start\n",
    "            print(\n",
    "                f\"Execution of function '{fn.__name__}' took: {duration} {scale}\")\n",
    "            return fn_result\n",
    "        return timer\n",
    "    return timing"
   ]
  },
  {
   "cell_type": "code",
   "execution_count": 148,
   "metadata": {},
   "outputs": [],
   "source": [
    "@timing_extended(use_ns=True)\n",
    "def iter(val):\n",
    "    res = 0\n",
    "    for i in range(val):\n",
    "        res += i\n",
    "    return res"
   ]
  },
  {
   "cell_type": "code",
   "execution_count": 149,
   "metadata": {},
   "outputs": [
    {
     "name": "stdout",
     "output_type": "stream",
     "text": [
      "Start timer\n",
      "Execution of function 'iter' took: 14502800 ns\n"
     ]
    },
    {
     "data": {
      "text/plain": [
       "4999850001"
      ]
     },
     "execution_count": 149,
     "metadata": {},
     "output_type": "execute_result"
    }
   ],
   "source": [
    "iter(99999)"
   ]
  }
 ],
 "metadata": {
  "kernelspec": {
   "display_name": ".venv",
   "language": "python",
   "name": "python3"
  },
  "language_info": {
   "codemirror_mode": {
    "name": "ipython",
    "version": 3
   },
   "file_extension": ".py",
   "mimetype": "text/x-python",
   "name": "python",
   "nbconvert_exporter": "python",
   "pygments_lexer": "ipython3",
   "version": "3.10.8"
  },
  "orig_nbformat": 4
 },
 "nbformat": 4,
 "nbformat_minor": 2
}
