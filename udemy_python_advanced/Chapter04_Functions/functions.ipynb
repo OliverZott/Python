{
 "cells": [
  {
   "attachments": {},
   "cell_type": "markdown",
   "metadata": {},
   "source": [
    "# Functions\n",
    "\n",
    "- in python everything is object of some class\n",
    "- functions are objects too\n",
    "- functions have __call__ method\n",
    "\n",
    "## Default args and return values\n",
    "\n",
    "- good practice for keyword args:\n",
    "    - use arg name when calling function (if not using default value!)"
   ]
  },
  {
   "cell_type": "code",
   "execution_count": 13,
   "metadata": {},
   "outputs": [],
   "source": [
    "from pprint import pprint"
   ]
  },
  {
   "cell_type": "code",
   "execution_count": 14,
   "metadata": {},
   "outputs": [],
   "source": [
    "def g(p1, p2, p3=\"dummy\", p4=10):\n",
    "    print(f\"p1: {p1} p2: {p2} p3: {p3} p4: {p4}\")"
   ]
  },
  {
   "cell_type": "code",
   "execution_count": 15,
   "metadata": {},
   "outputs": [
    {
     "name": "stdout",
     "output_type": "stream",
     "text": [
      "p1: 10 p2: 20 p3: dummy p4: 42\n",
      "None\n"
     ]
    }
   ],
   "source": [
    "ret = g(10, 20, p4=42)\n",
    "print(ret)"
   ]
  },
  {
   "attachments": {},
   "cell_type": "markdown",
   "metadata": {},
   "source": [
    "### problems with default args\n",
    "\n",
    "- problem if default value is mutable obj: e,g, list, dict, set\n",
    "- no prob for immutable types: on change it points to new memory address"
   ]
  },
  {
   "cell_type": "code",
   "execution_count": 16,
   "metadata": {},
   "outputs": [],
   "source": [
    "# my_list is a mutable object and is created once on interpreter start!!\n",
    "def add_to_list(val, my_list=[]):\n",
    "    my_list.append(val)\n",
    "    return my_list"
   ]
  },
  {
   "cell_type": "code",
   "execution_count": 17,
   "metadata": {},
   "outputs": [
    {
     "name": "stdout",
     "output_type": "stream",
     "text": [
      "[10]\n",
      "[10, 20]\n"
     ]
    }
   ],
   "source": [
    "my_list2 = add_to_list(10)\n",
    "print(my_list2)\n",
    "my_list3 = add_to_list(20)\n",
    "print(my_list3)"
   ]
  },
  {
   "cell_type": "code",
   "execution_count": 18,
   "metadata": {},
   "outputs": [],
   "source": [
    "def add_to_list(val, my_list=None):\n",
    "    if my_list is None:\n",
    "        my_list = [val]     # everytime new list is created!\n",
    "    else:\n",
    "        my_list.append(val)\n",
    "    return my_list"
   ]
  },
  {
   "cell_type": "code",
   "execution_count": 19,
   "metadata": {},
   "outputs": [
    {
     "name": "stdout",
     "output_type": "stream",
     "text": [
      "[10]\n",
      "[20]\n"
     ]
    }
   ],
   "source": [
    "my_list2 = add_to_list(10)\n",
    "print(my_list2)\n",
    "my_list3 = add_to_list(20)\n",
    "print(my_list3)"
   ]
  },
  {
   "attachments": {},
   "cell_type": "markdown",
   "metadata": {},
   "source": [
    "## Functions - deep dive\n",
    "\n",
    "- function pointer\n",
    "- call function inside other function\n",
    "- function attributes"
   ]
  },
  {
   "cell_type": "code",
   "execution_count": 20,
   "metadata": {},
   "outputs": [
    {
     "name": "stdout",
     "output_type": "stream",
     "text": [
      "<function g at 0x7fbe796b2e80> <class 'function'>\n"
     ]
    }
   ],
   "source": [
    "print(g, type(g))"
   ]
  },
  {
   "cell_type": "code",
   "execution_count": 21,
   "metadata": {},
   "outputs": [
    {
     "name": "stdout",
     "output_type": "stream",
     "text": [
      "p1: 1 p2: 2 p3: 42 p4: 10\n",
      "None\n"
     ]
    }
   ],
   "source": [
    "# function pointer\n",
    "def print_function_output(fn, **kwargs):\n",
    "    print(fn(**kwargs))\n",
    "\n",
    "\n",
    "my_func = g\n",
    "print_function_output(my_func, p1=1, p2=2, p3=42)"
   ]
  },
  {
   "cell_type": "code",
   "execution_count": 22,
   "metadata": {},
   "outputs": [
    {
     "name": "stdout",
     "output_type": "stream",
     "text": [
      "['__annotations__',\n",
      " '__builtins__',\n",
      " '__call__',\n",
      " '__class__',\n",
      " '__closure__',\n",
      " '__code__',\n",
      " '__defaults__',\n",
      " '__delattr__',\n",
      " '__dict__',\n",
      " '__dir__',\n",
      " '__doc__',\n",
      " '__eq__',\n",
      " '__format__',\n",
      " '__ge__',\n",
      " '__get__',\n",
      " '__getattribute__',\n",
      " '__getstate__',\n",
      " '__globals__',\n",
      " '__gt__',\n",
      " '__hash__',\n",
      " '__init__',\n",
      " '__init_subclass__',\n",
      " '__kwdefaults__',\n",
      " '__le__',\n",
      " '__lt__',\n",
      " '__module__',\n",
      " '__name__',\n",
      " '__ne__',\n",
      " '__new__',\n",
      " '__qualname__',\n",
      " '__reduce__',\n",
      " '__reduce_ex__',\n",
      " '__repr__',\n",
      " '__setattr__',\n",
      " '__sizeof__',\n",
      " '__str__',\n",
      " '__subclasshook__']\n"
     ]
    }
   ],
   "source": [
    "# defaul function class methods\n",
    "pprint(dir(g))"
   ]
  },
  {
   "cell_type": "code",
   "execution_count": 23,
   "metadata": {},
   "outputs": [
    {
     "name": "stdout",
     "output_type": "stream",
     "text": [
      "('dummy', 10)\n",
      "g\n",
      "('p1', 'p2', 'p3', 'p4')\n",
      "4\n"
     ]
    }
   ],
   "source": [
    "# function attributes\n",
    "print(g.__defaults__)\n",
    "print(g.__name__)\n",
    "print(g.__code__.co_varnames)\n",
    "print(g.__code__.co_argcount)"
   ]
  },
  {
   "cell_type": "code",
   "execution_count": 24,
   "metadata": {},
   "outputs": [
    {
     "name": "stdout",
     "output_type": "stream",
     "text": [
      "['__class__',\n",
      " '__delattr__',\n",
      " '__dir__',\n",
      " '__doc__',\n",
      " '__eq__',\n",
      " '__format__',\n",
      " '__ge__',\n",
      " '__getattribute__',\n",
      " '__getstate__',\n",
      " '__gt__',\n",
      " '__hash__',\n",
      " '__init__',\n",
      " '__init_subclass__',\n",
      " '__le__',\n",
      " '__lt__',\n",
      " '__ne__',\n",
      " '__new__',\n",
      " '__reduce__',\n",
      " '__reduce_ex__',\n",
      " '__repr__',\n",
      " '__setattr__',\n",
      " '__sizeof__',\n",
      " '__str__',\n",
      " '__subclasshook__',\n",
      " '_co_code_adaptive',\n",
      " '_varname_from_oparg',\n",
      " 'co_argcount',\n",
      " 'co_cellvars',\n",
      " 'co_code',\n",
      " 'co_consts',\n",
      " 'co_exceptiontable',\n",
      " 'co_filename',\n",
      " 'co_firstlineno',\n",
      " 'co_flags',\n",
      " 'co_freevars',\n",
      " 'co_kwonlyargcount',\n",
      " 'co_lines',\n",
      " 'co_linetable',\n",
      " 'co_lnotab',\n",
      " 'co_name',\n",
      " 'co_names',\n",
      " 'co_nlocals',\n",
      " 'co_positions',\n",
      " 'co_posonlyargcount',\n",
      " 'co_qualname',\n",
      " 'co_stacksize',\n",
      " 'co_varnames',\n",
      " 'replace']\n"
     ]
    }
   ],
   "source": [
    "pprint(dir(g.__code__))"
   ]
  }
 ],
 "metadata": {
  "kernelspec": {
   "display_name": ".venv",
   "language": "python",
   "name": "python3"
  },
  "language_info": {
   "codemirror_mode": {
    "name": "ipython",
    "version": 3
   },
   "file_extension": ".py",
   "mimetype": "text/x-python",
   "name": "python",
   "nbconvert_exporter": "python",
   "pygments_lexer": "ipython3",
   "version": "3.11.2"
  },
  "orig_nbformat": 4
 },
 "nbformat": 4,
 "nbformat_minor": 2
}
