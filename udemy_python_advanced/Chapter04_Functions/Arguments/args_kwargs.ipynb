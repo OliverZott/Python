{
 "cells": [
  {
   "attachments": {},
   "cell_type": "markdown",
   "metadata": {},
   "source": [
    "# *args & **kwargs\n",
    "\n",
    "- `*` is the **unpack operator**\n",
    "- arg order: \n",
    "    - normal args\n",
    "    - `*args`\n",
    "    - deault args\n",
    "    - `**kwargs`\n",
    "\n",
    "- `*args` is a tuple (because immutable and ordered)\n",
    "- `**kwargs` is a dictionary"
   ]
  },
  {
   "cell_type": "code",
   "execution_count": 1,
   "metadata": {},
   "outputs": [],
   "source": [
    "def my_args(a, b, *args):\n",
    "    print(f\"args: {args}\")\n",
    "    print(\"*args:\", {*args})  # unpack operator\n",
    "    print(type(args))\n",
    "    print(f\"a={a}, b={b}, args={args}\\n\")"
   ]
  },
  {
   "cell_type": "code",
   "execution_count": 2,
   "metadata": {},
   "outputs": [
    {
     "name": "stdout",
     "output_type": "stream",
     "text": [
      "args: ()\n",
      "*args: set()\n",
      "<class 'tuple'>\n",
      "a=2, b=5, args=()\n",
      "\n",
      "args: (4, 8)\n",
      "*args: {8, 4}\n",
      "<class 'tuple'>\n",
      "a=2, b=5, args=(4, 8)\n",
      "\n"
     ]
    }
   ],
   "source": [
    "my_args(2, 5)\n",
    "my_args(2, 5, 4, 8)"
   ]
  },
  {
   "cell_type": "code",
   "execution_count": 3,
   "metadata": {},
   "outputs": [],
   "source": [
    "def sum(*args):\n",
    "    result = 0\n",
    "    for i in args:\n",
    "        result += i\n",
    "    return result"
   ]
  },
  {
   "cell_type": "code",
   "execution_count": 4,
   "metadata": {},
   "outputs": [
    {
     "name": "stdout",
     "output_type": "stream",
     "text": [
      "0\n",
      "15\n"
     ]
    }
   ],
   "source": [
    "print(sum())\n",
    "print(sum(1, 2, 3, 4, 5))"
   ]
  },
  {
   "attachments": {},
   "cell_type": "markdown",
   "metadata": {},
   "source": [
    "## argument order\n",
    "\n",
    "- normal args -> `*args` -> default args -> `**kwargs`"
   ]
  },
  {
   "cell_type": "code",
   "execution_count": 5,
   "metadata": {},
   "outputs": [],
   "source": [
    "def my_func(a, *args, b=42, c=42, **kwargs):\n",
    "    print(args, type(args))\n",
    "    print(kwargs, type(kwargs))\n",
    "    print(f\"a: {a}, *args: {args}, b=...: {b}, c=...{c}, **kwargs: {kwargs}\")"
   ]
  },
  {
   "cell_type": "code",
   "execution_count": 6,
   "metadata": {},
   "outputs": [
    {
     "name": "stdout",
     "output_type": "stream",
     "text": [
      "(3, 5) <class 'tuple'>\n",
      "{'key1': 7, 'key2': 8} <class 'dict'>\n",
      "a: 1, *args: (3, 5), b=...: 6, c=...42, **kwargs: {'key1': 7, 'key2': 8}\n"
     ]
    }
   ],
   "source": [
    "my_func(1, 3, 5, b=6, key1=7, key2=8)"
   ]
  }
 ],
 "metadata": {
  "kernelspec": {
   "display_name": "venv",
   "language": "python",
   "name": "python3"
  },
  "language_info": {
   "codemirror_mode": {
    "name": "ipython",
    "version": 3
   },
   "file_extension": ".py",
   "mimetype": "text/x-python",
   "name": "python",
   "nbconvert_exporter": "python",
   "pygments_lexer": "ipython3",
   "version": "3.11.2"
  },
  "orig_nbformat": 4
 },
 "nbformat": 4,
 "nbformat_minor": 2
}
