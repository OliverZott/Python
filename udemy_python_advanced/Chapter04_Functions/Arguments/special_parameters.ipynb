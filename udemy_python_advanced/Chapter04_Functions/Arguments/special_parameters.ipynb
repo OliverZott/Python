{
 "cells": [
  {
   "attachments": {},
   "cell_type": "markdown",
   "metadata": {},
   "source": [
    "# Positional-Only & Keyword-Only\n"
   ]
  },
  {
   "cell_type": "code",
   "execution_count": 4,
   "metadata": {},
   "outputs": [
    {
     "name": "stdout",
     "output_type": "stream",
     "text": [
      "1 2\n",
      "pos_only_args() got some positional-only arguments passed as keyword arguments: 'a, b'\n"
     ]
    }
   ],
   "source": [
    "def pos_only_args(a, b, /):\n",
    "    print(a, b)\n",
    "\n",
    "\n",
    "pos_only_args(1, 2)\n",
    "\n",
    "try:\n",
    "    pos_only_args(a=1, b=2)\n",
    "except TypeError as e:\n",
    "    print(e)"
   ]
  },
  {
   "cell_type": "code",
   "execution_count": 5,
   "metadata": {},
   "outputs": [
    {
     "name": "stdout",
     "output_type": "stream",
     "text": [
      "1 2\n",
      "key_only_args() takes 0 positional arguments but 2 were given\n"
     ]
    }
   ],
   "source": [
    "def key_only_args(*, a, b):\n",
    "    print(a, b)\n",
    "\n",
    "\n",
    "key_only_args(a=1, b=2)\n",
    "\n",
    "try:\n",
    "    key_only_args(1, 2)\n",
    "except Exception as e:\n",
    "    print(e)"
   ]
  },
  {
   "cell_type": "code",
   "execution_count": 6,
   "metadata": {},
   "outputs": [
    {
     "name": "stdout",
     "output_type": "stream",
     "text": [
      "combo_args() takes 1 positional argument but 2 were given\n",
      "combo_args() got some positional-only arguments passed as keyword arguments: 'a'\n"
     ]
    }
   ],
   "source": [
    "def combo_args(a, /, *, b):\n",
    "    print(a, b)\n",
    "\n",
    "\n",
    "try:\n",
    "    combo_args(1, 2)\n",
    "except Exception as e:\n",
    "    print(e)\n",
    "\n",
    "\n",
    "try:\n",
    "    combo_args(a=2, b=3)\n",
    "except Exception as e:\n",
    "    print(e)"
   ]
  }
 ],
 "metadata": {
  "kernelspec": {
   "display_name": "venv",
   "language": "python",
   "name": "python3"
  },
  "language_info": {
   "codemirror_mode": {
    "name": "ipython",
    "version": 3
   },
   "file_extension": ".py",
   "mimetype": "text/x-python",
   "name": "python",
   "nbconvert_exporter": "python",
   "pygments_lexer": "ipython3",
   "version": "3.11.2"
  },
  "orig_nbformat": 4
 },
 "nbformat": 4,
 "nbformat_minor": 2
}
