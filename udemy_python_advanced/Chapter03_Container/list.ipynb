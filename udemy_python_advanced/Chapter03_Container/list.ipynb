{
 "cells": [
  {
   "attachments": {},
   "cell_type": "markdown",
   "metadata": {},
   "source": [
    "# List\n",
    "\n",
    "- Mutable Type\n",
    "- Value types: any\n",
    "- list is unordered collection of items\n",
    "- Elements can be changed or replaced in Lists.\t"
   ]
  },
  {
   "cell_type": "code",
   "execution_count": 21,
   "metadata": {},
   "outputs": [],
   "source": [
    "def memory_address(var: list) -> str:\n",
    "    return hex(id(var) % 0xFFFFF)\n",
    "\n",
    "\n",
    "def print_container_info(lst: list) -> None:\n",
    "    print(f\"List address: {memory_address(lst)}\")\n",
    "\n",
    "    if len(lst) == 0:\n",
    "        return\n",
    "    if not isinstance(lst[0], list):\n",
    "        return\n",
    "\n",
    "    for i in range(len(lst)):\n",
    "        print(f\"Lst[{i}] address: {memory_address(lst[i])}\")\n",
    "        if isinstance(lst[i], list):\n",
    "            for j in range(len(lst[i])):\n",
    "                print(f\"Lst[{i}][{j}] address: {memory_address(lst[i][j])}\")"
   ]
  },
  {
   "cell_type": "code",
   "execution_count": 22,
   "metadata": {},
   "outputs": [
    {
     "name": "stdout",
     "output_type": "stream",
     "text": [
      "[1, 2, 3]\n",
      "List address: 0xa57b9\n"
     ]
    }
   ],
   "source": [
    "my_list = [1, 2, 3]\n",
    "print(my_list)\n",
    "print_container_info(my_list)"
   ]
  },
  {
   "cell_type": "code",
   "execution_count": 23,
   "metadata": {},
   "outputs": [
    {
     "name": "stdout",
     "output_type": "stream",
     "text": [
      "[[1, 2], [3]]\n",
      "List address: 0x2de0f\n",
      "Lst[0] address: 0x2690f\n",
      "Lst[0][0] address: 0x13f5d\n",
      "Lst[0][1] address: 0x13f7d\n",
      "Lst[1] address: 0xc790d\n",
      "Lst[1][0] address: 0x13f9d\n"
     ]
    }
   ],
   "source": [
    "my_list2 = [[1, 2], [3]]\n",
    "print(my_list2)\n",
    "print_container_info(my_list2)"
   ]
  },
  {
   "cell_type": "code",
   "execution_count": 24,
   "metadata": {},
   "outputs": [
    {
     "name": "stdout",
     "output_type": "stream",
     "text": [
      "[[1, 2], [3, 2, 1]]\n",
      "List address: 0x2de0f\n",
      "Lst[0] address: 0x2690f\n",
      "Lst[0][0] address: 0x13f5d\n",
      "Lst[0][1] address: 0x13f7d\n",
      "Lst[1] address: 0x1f0ef\n",
      "Lst[1][0] address: 0x13f9d\n",
      "Lst[1][1] address: 0x13f7d\n",
      "Lst[1][2] address: 0x13f5d\n"
     ]
    }
   ],
   "source": [
    "my_list2[1] = [3, 2, 1]\n",
    "print(my_list2)\n",
    "print_container_info(my_list2)"
   ]
  },
  {
   "attachments": {},
   "cell_type": "markdown",
   "metadata": {},
   "source": [
    "## List comprenhensions\n",
    "\n",
    "- add/modify elements in list without external for loop"
   ]
  },
  {
   "cell_type": "code",
   "execution_count": 25,
   "metadata": {},
   "outputs": [
    {
     "name": "stdout",
     "output_type": "stream",
     "text": [
      "[0, 1, 2, 3, 4]\n"
     ]
    }
   ],
   "source": [
    "list1 = []\n",
    "for i in range(5):\n",
    "    list1.append(i)\n",
    "\n",
    "print(list1)"
   ]
  },
  {
   "cell_type": "code",
   "execution_count": 26,
   "metadata": {},
   "outputs": [
    {
     "name": "stdout",
     "output_type": "stream",
     "text": [
      "[0, 1, 2, 3, 4]\n"
     ]
    }
   ],
   "source": [
    "list2 = [i for i in range(5)]\n",
    "\n",
    "print(list2)"
   ]
  },
  {
   "cell_type": "code",
   "execution_count": 27,
   "metadata": {},
   "outputs": [
    {
     "name": "stdout",
     "output_type": "stream",
     "text": [
      "[0, 1, 2, 3, 4, 5, 7]\n"
     ]
    }
   ],
   "source": [
    "list2 = [i for i in range(11) if i < 6 or i == 7]\n",
    "\n",
    "print(list2)"
   ]
  },
  {
   "cell_type": "code",
   "execution_count": 28,
   "metadata": {},
   "outputs": [
    {
     "name": "stdout",
     "output_type": "stream",
     "text": [
      "[0, 1, 2, 3, -1, -1, -1, 7, -1, -1, -1]\n"
     ]
    }
   ],
   "source": [
    "list2 = [i if i < 4 or i == 7 else -1 for i in range(11)]\n",
    "\n",
    "print(list2)"
   ]
  },
  {
   "cell_type": "code",
   "execution_count": null,
   "metadata": {},
   "outputs": [],
   "source": []
  }
 ],
 "metadata": {
  "kernelspec": {
   "display_name": ".venv",
   "language": "python",
   "name": "python3"
  },
  "language_info": {
   "codemirror_mode": {
    "name": "ipython",
    "version": 3
   },
   "file_extension": ".py",
   "mimetype": "text/x-python",
   "name": "python",
   "nbconvert_exporter": "python",
   "pygments_lexer": "ipython3",
   "version": "3.10.8"
  },
  "orig_nbformat": 4
 },
 "nbformat": 4,
 "nbformat_minor": 2
}
