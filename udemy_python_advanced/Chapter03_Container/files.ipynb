{
 "cells": [
  {
   "attachments": {},
   "cell_type": "markdown",
   "metadata": {},
   "source": [
    "# Filepaths\n",
    "\n",
    "- important to ignore OS specific stuff\n",
    "    - path separators\n",
    "    - absolute vs relative paths\n",
    "    - home directory\n",
    "- \"old-school\": os\n",
    "- newer: pathlib"
   ]
  },
  {
   "cell_type": "code",
   "execution_count": 46,
   "metadata": {},
   "outputs": [],
   "source": [
    "import os\n",
    "from pathlib import Path"
   ]
  },
  {
   "cell_type": "code",
   "execution_count": 47,
   "metadata": {},
   "outputs": [
    {
     "name": "stdout",
     "output_type": "stream",
     "text": [
      "C:\\Train\\python-training\\udemy_python_advanced\n"
     ]
    }
   ],
   "source": [
    "project_path = os.path.abspath(\n",
    "    \"C:/Train/python-training/udemy_python_advanced\")\n",
    "print(project_path)"
   ]
  },
  {
   "cell_type": "code",
   "execution_count": 48,
   "metadata": {},
   "outputs": [
    {
     "name": "stdout",
     "output_type": "stream",
     "text": [
      "C:\\Train\\python-training\\udemy_python_advanced\\Chapter03_Container\\test.txt\n"
     ]
    }
   ],
   "source": [
    "file_path = os.path.join(\n",
    "    project_path,\n",
    "    \"Chapter03_Container\",\n",
    "    \"test.txt\"\n",
    ")\n",
    "\n",
    "print(file_path)"
   ]
  },
  {
   "cell_type": "code",
   "execution_count": 49,
   "metadata": {},
   "outputs": [
    {
     "name": "stdout",
     "output_type": "stream",
     "text": [
      "c:\\Train\\python-training\\udemy_python_advanced\n"
     ]
    }
   ],
   "source": [
    "parent_path = os.path.abspath(\n",
    "    os.path.pardir\n",
    ")\n",
    "\n",
    "print(parent_path)"
   ]
  },
  {
   "attachments": {},
   "cell_type": "markdown",
   "metadata": {},
   "source": [
    "## More specific with Path-class"
   ]
  },
  {
   "cell_type": "code",
   "execution_count": 50,
   "metadata": {},
   "outputs": [
    {
     "name": "stdout",
     "output_type": "stream",
     "text": [
      "C:\\Train\\python-training\\udemy_python_advanced\\Chapter03_Container\\test.txt\n",
      "<class 'pathlib.WindowsPath'>\n",
      "['absolute', 'anchor', 'chmod', 'cwd', 'drive', 'exists', 'expanduser', 'glob', 'group', 'home', 'iterdir', 'joinpath', 'lchmod', 'lstat', 'match', 'mkdir', 'name', 'open', 'owner', 'parent', 'parents', 'parts', 'readlink', 'rename', 'replace', 'resolve', 'rglob', 'rmdir', 'root', 'samefile', 'stat', 'stem', 'suffix', 'suffixes', 'touch', 'unlink']\n"
     ]
    }
   ],
   "source": [
    "path = Path(file_path)\n",
    "\n",
    "print(path)\n",
    "print(type(path))\n",
    "print([d for d in dir(path) if '_' not in d])"
   ]
  },
  {
   "cell_type": "code",
   "execution_count": 51,
   "metadata": {},
   "outputs": [
    {
     "name": "stdout",
     "output_type": "stream",
     "text": [
      "C:\\Train\\python-training\\udemy_python_advanced\\Chapter03_Container\\test.txt\n",
      "False\n",
      "True\n"
     ]
    }
   ],
   "source": [
    "print(path.absolute())\n",
    "print(path.is_dir())\n",
    "print(path.is_file())"
   ]
  },
  {
   "attachments": {},
   "cell_type": "markdown",
   "metadata": {},
   "source": [
    "## Files\n",
    "\n",
    "- open file stream and close it with **context manager** \n"
   ]
  },
  {
   "cell_type": "code",
   "execution_count": 52,
   "metadata": {},
   "outputs": [
    {
     "name": "stdout",
     "output_type": "stream",
     "text": [
      "False\n",
      "True\n",
      "<_io.TextIOWrapper name='C:\\\\Train\\\\python-training\\\\udemy_python_advanced\\\\Chapter03_Container\\\\test.txt' mode='r' encoding='cp1252'>\n",
      "<_io.TextIOWrapper name='C:\\\\Train\\\\python-training\\\\udemy_python_advanced\\\\Chapter03_Container\\\\test.txt' mode='r' encoding='cp1252'> <class '_io.TextIOWrapper'>\n",
      "\n",
      "['blub\\n', 'this is my dummy text\\n', '42\\n', '   \\n', '---']\n",
      "<class 'list'>\n",
      "['blub', 'this is my dummy text', '42', '   ', '---']\n"
     ]
    }
   ],
   "source": [
    "with open(file_path, \"r\") as f:\n",
    "    content = f.readlines()\n",
    "    print(f.closed)\n",
    "\n",
    "print(f.closed)  # closed\n",
    "print(f)  # but variable f still exist\n",
    "\n",
    "print(f, type(f))\n",
    "\n",
    "print(f\"\\n{content}\\n{type(content)}\")\n",
    "\n",
    "# Remove line break-symbol\n",
    "for idx, line in enumerate(content):    # make string iterable\n",
    "    content[idx] = line.replace(\"\\n\", \"\")\n",
    "print(content)"
   ]
  },
  {
   "cell_type": "code",
   "execution_count": null,
   "metadata": {},
   "outputs": [],
   "source": []
  }
 ],
 "metadata": {
  "kernelspec": {
   "display_name": ".venv",
   "language": "python",
   "name": "python3"
  },
  "language_info": {
   "codemirror_mode": {
    "name": "ipython",
    "version": 3
   },
   "file_extension": ".py",
   "mimetype": "text/x-python",
   "name": "python",
   "nbconvert_exporter": "python",
   "pygments_lexer": "ipython3",
   "version": "3.10.8"
  },
  "orig_nbformat": 4
 },
 "nbformat": 4,
 "nbformat_minor": 2
}
