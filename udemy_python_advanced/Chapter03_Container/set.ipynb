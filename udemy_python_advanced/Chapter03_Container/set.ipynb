{
 "cells": [
  {
   "attachments": {},
   "cell_type": "markdown",
   "metadata": {},
   "source": [
    "# Set\n",
    "\n",
    "- set is mutable\n",
    "- only immutable types can be stored in a set\n",
    "- set is unordered\n",
    "- set is unindexed\n",
    "- set is iterable\n",
    "- Elements can be changed or replaced in Lists.\t"
   ]
  },
  {
   "cell_type": "code",
   "execution_count": 1,
   "metadata": {},
   "outputs": [],
   "source": [
    "def memory_address(var: set) -> str:\n",
    "    return hex(id(var) % 0xFFFFF)\n",
    "\n",
    "\n",
    "def print_container_info(in_set: set) -> None:\n",
    "    print(f\"Dict address: {memory_address(in_set)}\")\n",
    "\n",
    "    if len(in_set) == 0:\n",
    "        return\n",
    "\n",
    "    for i in range(len(in_set)):\n",
    "        print(\n",
    "            f\"dict[{i}], value: {in_set[i]}, address: {memory_address(in_set[i])}\")"
   ]
  },
  {
   "cell_type": "code",
   "execution_count": 8,
   "metadata": {},
   "outputs": [
    {
     "name": "stdout",
     "output_type": "stream",
     "text": [
      "unhashable type: 'list'\n"
     ]
    }
   ],
   "source": [
    "try:\n",
    "    my_set1 = {1, 2, [2, 4]}\n",
    "except Exception as e:\n",
    "    print(e)"
   ]
  },
  {
   "cell_type": "code",
   "execution_count": 6,
   "metadata": {},
   "outputs": [
    {
     "name": "stdout",
     "output_type": "stream",
     "text": [
      "{1, 2, 'df'}\n"
     ]
    }
   ],
   "source": [
    "print(my_set1)"
   ]
  },
  {
   "cell_type": "code",
   "execution_count": null,
   "metadata": {},
   "outputs": [],
   "source": []
  }
 ],
 "metadata": {
  "kernelspec": {
   "display_name": ".venv",
   "language": "python",
   "name": "python3"
  },
  "language_info": {
   "codemirror_mode": {
    "name": "ipython",
    "version": 3
   },
   "file_extension": ".py",
   "mimetype": "text/x-python",
   "name": "python",
   "nbconvert_exporter": "python",
   "pygments_lexer": "ipython3",
   "version": "3.10.8"
  },
  "orig_nbformat": 4
 },
 "nbformat": 4,
 "nbformat_minor": 2
}
