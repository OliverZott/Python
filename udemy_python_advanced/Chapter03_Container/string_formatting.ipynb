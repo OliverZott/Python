{
 "cells": [
  {
   "attachments": {},
   "cell_type": "markdown",
   "metadata": {},
   "source": [
    "# String formatting\n",
    "\n",
    "https://www.youtube.com/watch?v=Mfmr_Puhtew\n",
    "\n",
    "- only use f-strings\n",
    "- old:\n",
    "    - %s\n",
    "    - .format()\n",
    "    - concatination"
   ]
  },
  {
   "cell_type": "code",
   "execution_count": 25,
   "metadata": {},
   "outputs": [],
   "source": [
    "name = \"Olli\"\n",
    "int1 = 42\n",
    "float1 = 234.2135269927347146346"
   ]
  },
  {
   "cell_type": "code",
   "execution_count": 26,
   "metadata": {},
   "outputs": [
    {
     "name": "stdout",
     "output_type": "stream",
     "text": [
      "Hello, I'm Olli\n"
     ]
    }
   ],
   "source": [
    "print(f\"Hello, I'm {name}\")"
   ]
  },
  {
   "cell_type": "code",
   "execution_count": 27,
   "metadata": {},
   "outputs": [
    {
     "name": "stdout",
     "output_type": "stream",
     "text": [
      "My Number,         42\n"
     ]
    }
   ],
   "source": [
    "print(f\"My Number, {int1:10d}\")  # white spaces"
   ]
  },
  {
   "cell_type": "code",
   "execution_count": 28,
   "metadata": {},
   "outputs": [
    {
     "name": "stdout",
     "output_type": "stream",
     "text": [
      "My Number, 234.214\n"
     ]
    }
   ],
   "source": [
    "print(f\"My Number, {float1:.3f}\")  #"
   ]
  }
 ],
 "metadata": {
  "kernelspec": {
   "display_name": ".venv",
   "language": "python",
   "name": "python3"
  },
  "language_info": {
   "codemirror_mode": {
    "name": "ipython",
    "version": 3
   },
   "file_extension": ".py",
   "mimetype": "text/x-python",
   "name": "python",
   "nbconvert_exporter": "python",
   "pygments_lexer": "ipython3",
   "version": "3.10.8"
  },
  "orig_nbformat": 4
 },
 "nbformat": 4,
 "nbformat_minor": 2
}
