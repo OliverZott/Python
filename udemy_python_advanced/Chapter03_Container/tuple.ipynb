{
 "cells": [
  {
   "attachments": {},
   "cell_type": "markdown",
   "metadata": {},
   "source": [
    "# Tuple\n",
    "\n",
    "- Immutable type"
   ]
  },
  {
   "cell_type": "code",
   "execution_count": 18,
   "metadata": {},
   "outputs": [],
   "source": [
    "def memory_address(var: tuple) -> str:\n",
    "    return hex(id(var) % 0xFFFFF)\n",
    "\n",
    "\n",
    "def print_container_info(tpl: tuple) -> None:\n",
    "    print(f\"Tuple address: {memory_address(tpl)}\")\n",
    "    if len(tpl) == 0:\n",
    "        return\n",
    "    for val in tpl:\n",
    "        print(f\"Value: {memory_address(val)}\")"
   ]
  },
  {
   "cell_type": "code",
   "execution_count": 19,
   "metadata": {},
   "outputs": [
    {
     "name": "stdout",
     "output_type": "stream",
     "text": [
      "(2, 42, 1)\n",
      "Tuple address: 0xe6ca0\n",
      "Value: 0x764a3\n",
      "Value: 0x769a3\n",
      "Value: 0x76483\n"
     ]
    }
   ],
   "source": [
    "my_tuple1 = (2, 42, 1)\n",
    "print(my_tuple1)\n",
    "print_container_info(my_tuple1)"
   ]
  },
  {
   "cell_type": "code",
   "execution_count": 20,
   "metadata": {},
   "outputs": [
    {
     "name": "stdout",
     "output_type": "stream",
     "text": [
      "'tuple' object does not support item assignment\n"
     ]
    }
   ],
   "source": [
    "try:\n",
    "    my_tuple1[1] = 234\n",
    "except TypeError as e:\n",
    "    print(e)"
   ]
  },
  {
   "attachments": {},
   "cell_type": "markdown",
   "metadata": {},
   "source": [
    "## Mutable container in immutable tuple"
   ]
  },
  {
   "cell_type": "code",
   "execution_count": 21,
   "metadata": {},
   "outputs": [
    {
     "name": "stdout",
     "output_type": "stream",
     "text": [
      "(54, -5, [1, 2])\n",
      "Tuple address: 0x23f21\n",
      "Value: 0x76b23\n",
      "Value: 0x763c3\n",
      "Value: 0xe84a0\n"
     ]
    }
   ],
   "source": [
    "my_list = [1, 2]\n",
    "my_tuple2 = (54, -5, my_list)\n",
    "\n",
    "print(my_tuple2)\n",
    "print_container_info(my_tuple2)"
   ]
  },
  {
   "cell_type": "code",
   "execution_count": 22,
   "metadata": {},
   "outputs": [
    {
     "name": "stdout",
     "output_type": "stream",
     "text": [
      "[3, 6]\n",
      "(54, -5, [1, 2])\n",
      "Tuple address: 0x23f21\n",
      "Value: 0x76b23\n",
      "Value: 0x763c3\n",
      "Value: 0xe84a0\n",
      "[3, 6]\n",
      "(54, -5, [1, 2, 42])\n",
      "Tuple address: 0x23f21\n",
      "Value: 0x76b23\n",
      "Value: 0x763c3\n",
      "Value: 0xe84a0\n"
     ]
    }
   ],
   "source": [
    "my_list = [3, 6]\n",
    "\n",
    "print(my_list)\n",
    "print(my_tuple2)  # not using new list, cause \"new\" my_list now shows to different memory address. Memory address in tuple is still the old one!\n",
    "print_container_info(my_tuple2)\n",
    "\n",
    "my_tuple2[2].append(42)\n",
    "print(my_list)\n",
    "print(my_tuple2)  # now updated used list\n",
    "print_container_info(my_tuple2)"
   ]
  },
  {
   "attachments": {},
   "cell_type": "markdown",
   "metadata": {},
   "source": [
    "## Tuple Packing & Unpacking\n"
   ]
  },
  {
   "cell_type": "code",
   "execution_count": 26,
   "metadata": {},
   "outputs": [],
   "source": [
    "tpl = (23, 42.0, True, None)"
   ]
  },
  {
   "cell_type": "code",
   "execution_count": 30,
   "metadata": {},
   "outputs": [
    {
     "name": "stdout",
     "output_type": "stream",
     "text": [
      "(23, 42.0, True, None)\n",
      "23\n"
     ]
    }
   ],
   "source": [
    "print(tpl)\n",
    "\n",
    "_, my_float, my_bool, my_none = tpl\n",
    "print(_)"
   ]
  },
  {
   "cell_type": "code",
   "execution_count": 31,
   "metadata": {},
   "outputs": [
    {
     "name": "stdout",
     "output_type": "stream",
     "text": [
      "[42.0, True, None]\n"
     ]
    }
   ],
   "source": [
    "my_int, *packed = tpl\n",
    "print(packed)"
   ]
  },
  {
   "cell_type": "code",
   "execution_count": null,
   "metadata": {},
   "outputs": [],
   "source": []
  }
 ],
 "metadata": {
  "kernelspec": {
   "display_name": ".venv",
   "language": "python",
   "name": "python3"
  },
  "language_info": {
   "codemirror_mode": {
    "name": "ipython",
    "version": 3
   },
   "file_extension": ".py",
   "mimetype": "text/x-python",
   "name": "python",
   "nbconvert_exporter": "python",
   "pygments_lexer": "ipython3",
   "version": "3.10.8"
  },
  "orig_nbformat": 4
 },
 "nbformat": 4,
 "nbformat_minor": 2
}
