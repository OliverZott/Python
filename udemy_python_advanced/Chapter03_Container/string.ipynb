{
 "cells": [
  {
   "attachments": {},
   "cell_type": "markdown",
   "metadata": {},
   "source": [
    "# Strings\n",
    "\n",
    "- are containers\n",
    "- are immutable\n",
    "    - length fixed --> hashable --> can be used in dicts\n",
    "- in languages like C++, strings are null-terminated, so you have to check to stick in range of string (**out-of-bounce**)\n"
   ]
  },
  {
   "cell_type": "code",
   "execution_count": 14,
   "metadata": {},
   "outputs": [],
   "source": [
    "def memory_address(string: str) -> str:\n",
    "    return hex(id(string) % 0xFFFFF)\n",
    "\n",
    "\n",
    "def print_container_info(string: str) -> None:\n",
    "    print(f\"String address: {memory_address(string)}\")\n",
    "\n",
    "    if len(string) == 0:\n",
    "        return\n",
    "\n",
    "    for i in range(len(string)):\n",
    "        print(\n",
    "            f\"string[{i}], value: {string[i]}, address: {memory_address(string[i])}\")"
   ]
  },
  {
   "cell_type": "code",
   "execution_count": 15,
   "metadata": {},
   "outputs": [
    {
     "name": "stdout",
     "output_type": "stream",
     "text": [
      "String address: 0x4257a\n",
      "string[0], value: O, address: 0x1ebaf\n",
      "string[1], value: l, address: 0xf01ae\n",
      "string[2], value: l, address: 0xf01ae\n",
      "string[3], value: i, address: 0x6a56e\n"
     ]
    }
   ],
   "source": [
    "my_str = \"Olli\"\n",
    "print_container_info(my_str)"
   ]
  },
  {
   "cell_type": "code",
   "execution_count": 16,
   "metadata": {},
   "outputs": [
    {
     "name": "stdout",
     "output_type": "stream",
     "text": [
      "OlliOOO\n",
      "String address: 0x52534\n",
      "string[0], value: O, address: 0x1ebaf\n",
      "string[1], value: l, address: 0xf01ae\n",
      "string[2], value: l, address: 0xf01ae\n",
      "string[3], value: i, address: 0x6a56e\n",
      "string[4], value: O, address: 0x1ebaf\n",
      "string[5], value: O, address: 0x1ebaf\n",
      "string[6], value: O, address: 0x1ebaf\n"
     ]
    }
   ],
   "source": [
    "my_str = my_str + \"OOO\"   # new string object is created !!!\n",
    "print(my_str)\n",
    "print_container_info(my_str)"
   ]
  },
  {
   "cell_type": "code",
   "execution_count": 17,
   "metadata": {},
   "outputs": [
    {
     "name": "stdout",
     "output_type": "stream",
     "text": [
      "OLLiOOO\n",
      "String address: 0x997a\n",
      "string[0], value: O, address: 0x1ebaf\n",
      "string[1], value: L, address: 0xe4dee\n",
      "string[2], value: L, address: 0xe4dee\n",
      "string[3], value: i, address: 0x6a56e\n",
      "string[4], value: O, address: 0x1ebaf\n",
      "string[5], value: O, address: 0x1ebaf\n",
      "string[6], value: O, address: 0x1ebaf\n"
     ]
    }
   ],
   "source": [
    "my_str = my_str.replace(\"ll\", \"LL\")\n",
    "print(my_str)\n",
    "print_container_info(my_str)"
   ]
  },
  {
   "attachments": {},
   "cell_type": "markdown",
   "metadata": {},
   "source": [
    "## Slice"
   ]
  },
  {
   "cell_type": "code",
   "execution_count": 18,
   "metadata": {},
   "outputs": [
    {
     "name": "stdout",
     "output_type": "stream",
     "text": [
      "OL\n",
      "String address: 0x4157a\n",
      "string[0], value: O, address: 0x1ebaf\n",
      "string[1], value: L, address: 0xe4dee\n"
     ]
    }
   ],
   "source": [
    "my_str = my_str[:2]\n",
    "print(my_str)\n",
    "print_container_info(my_str)"
   ]
  },
  {
   "attachments": {},
   "cell_type": "markdown",
   "metadata": {},
   "source": [
    "# Immutability"
   ]
  },
  {
   "cell_type": "code",
   "execution_count": 19,
   "metadata": {},
   "outputs": [
    {
     "name": "stdout",
     "output_type": "stream",
     "text": [
      "'str' object does not support item assignment\n"
     ]
    }
   ],
   "source": [
    "try:\n",
    "    my_str[0] = \"k\"\n",
    "except Exception as e:\n",
    "    print(e)"
   ]
  },
  {
   "cell_type": "code",
   "execution_count": null,
   "metadata": {},
   "outputs": [],
   "source": []
  }
 ],
 "metadata": {
  "kernelspec": {
   "display_name": ".venv",
   "language": "python",
   "name": "python3"
  },
  "language_info": {
   "codemirror_mode": {
    "name": "ipython",
    "version": 3
   },
   "file_extension": ".py",
   "mimetype": "text/x-python",
   "name": "python",
   "nbconvert_exporter": "python",
   "pygments_lexer": "ipython3",
   "version": "3.10.8"
  },
  "orig_nbformat": 4
 },
 "nbformat": 4,
 "nbformat_minor": 2
}
