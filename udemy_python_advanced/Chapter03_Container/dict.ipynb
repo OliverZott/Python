{
 "cells": [
  {
   "attachments": {},
   "cell_type": "markdown",
   "metadata": {},
   "source": [
    "# Dict\n",
    "\n",
    "- Dict is mutable object\n",
    "- Types for keys: bool, int, float, str, tuple, None\n",
    "- Types for values: any\n",
    "\n",
    "For each item the dictionary calculates a hash of the key based on its content, that is used to look up the item later. This allows the items to be retrieved extremely quickly.    \n",
    "If the value changes, the hash will change.  \n",
    "No probnlem for immutable types, but for mutable types. Thats the reason why mutable types are not allowed as keys."
   ]
  },
  {
   "cell_type": "code",
   "execution_count": 51,
   "metadata": {},
   "outputs": [],
   "source": [
    "def memory_address(var: dict) -> str:\n",
    "    return hex(id(var) % 0xFFFFF)\n",
    "\n",
    "\n",
    "def print_container_info(dct: dict) -> None:\n",
    "    print(f\"Dict address: {memory_address(dct)}\")\n",
    "\n",
    "    if len(dct) == 0:\n",
    "        return\n",
    "\n",
    "    for i in dct.keys():\n",
    "        print(f\"dict[{i}], value: {dct[i]}, address: {memory_address(dct[i])}\")"
   ]
  },
  {
   "cell_type": "code",
   "execution_count": null,
   "metadata": {},
   "outputs": [
    {
     "name": "stdout",
     "output_type": "stream",
     "text": [
      "{True: 'test', 10: [12, 34, 6], 'blub': {'blob'}, (10, 20): (4, 3), 'dct': {'hi': 'there'}}\n",
      "Dict address: 0xbfc33\n"
     ]
    }
   ],
   "source": [
    "my_dict1 = {\n",
    "    True: \"test\",\n",
    "    10: [12, 34, 6],\n",
    "    \"blub\": {\"blob\"},\n",
    "    (10, 20): (4, 3),\n",
    "    \"dct\": {\"hi\": \"there\"}\n",
    "}\n",
    "\n",
    "print(my_dict1)\n",
    "print_container_info(my_dict1)"
   ]
  },
  {
   "attachments": {},
   "cell_type": "markdown",
   "metadata": {},
   "source": [
    "## Dict Comprenhension"
   ]
  },
  {
   "cell_type": "code",
   "execution_count": 53,
   "metadata": {},
   "outputs": [
    {
     "name": "stdout",
     "output_type": "stream",
     "text": [
      "{0: 0, 1: 1, 2: 8, 3: 27}\n"
     ]
    }
   ],
   "source": [
    "my_dict2 = {i: i**3 for i in range(4)}\n",
    "print(my_dict2)"
   ]
  },
  {
   "attachments": {},
   "cell_type": "markdown",
   "metadata": {},
   "source": [
    "## Dict Merge\n",
    "\n",
    "- same keys will be overwritten!!"
   ]
  },
  {
   "cell_type": "code",
   "execution_count": 55,
   "metadata": {},
   "outputs": [
    {
     "name": "stdout",
     "output_type": "stream",
     "text": [
      "{True: 1, 10: [12, 34, 6], 'blub': {'blob'}, (10, 20): (4, 3), 'dct': {'hi': 'there'}, 0: 0, 2: 8, 3: 27}\n"
     ]
    }
   ],
   "source": [
    "my_result = my_dict1 | my_dict2\n",
    "print(my_result)  # care: True key got overwritten by \"1\" key, cause 1 == True"
   ]
  }
 ],
 "metadata": {
  "kernelspec": {
   "display_name": ".venv",
   "language": "python",
   "name": "python3"
  },
  "language_info": {
   "codemirror_mode": {
    "name": "ipython",
    "version": 3
   },
   "file_extension": ".py",
   "mimetype": "text/x-python",
   "name": "python",
   "nbconvert_exporter": "python",
   "pygments_lexer": "ipython3",
   "version": "3.10.8"
  },
  "orig_nbformat": 4
 },
 "nbformat": 4,
 "nbformat_minor": 2
}
