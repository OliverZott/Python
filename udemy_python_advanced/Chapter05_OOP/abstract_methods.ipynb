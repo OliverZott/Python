{
 "cells": [
  {
   "attachments": {},
   "cell_type": "markdown",
   "metadata": {},
   "source": [
    "# Abstract methods\n",
    "\n",
    "- Abstract methods are methods that are defined, but not implemented in the base class."
   ]
  },
  {
   "cell_type": "code",
   "execution_count": 20,
   "metadata": {},
   "outputs": [],
   "source": [
    "import abc\n",
    "import math"
   ]
  },
  {
   "cell_type": "code",
   "execution_count": 21,
   "metadata": {},
   "outputs": [],
   "source": [
    "class Base(metaclass=abc.ABCMeta):\n",
    "\n",
    "    @abc.abstractmethod\n",
    "    def m1(self):\n",
    "        pass\n",
    "\n",
    "    @staticmethod\n",
    "    @abc.abstractmethod\n",
    "    def m2():\n",
    "        pass\n",
    "\n",
    "    @classmethod\n",
    "    @abc.abstractmethod\n",
    "    def m3(cls):\n",
    "        return\n",
    "\n",
    "# TypeError: Can't instantiate abstract class Base with abstract methods m1, m2, m3\n",
    "# b = Base()"
   ]
  },
  {
   "cell_type": "code",
   "execution_count": 22,
   "metadata": {},
   "outputs": [],
   "source": [
    "class MyClass1(Base):\n",
    "\n",
    "    def m1(self):\n",
    "        return 'm1'\n",
    "\n",
    "    def m2(self):\n",
    "        return 'm2'\n",
    "\n",
    "\n",
    "# TypeError: Can't instantiate abstract class MyClass1 with abstract method m3\n",
    "# my_class = MyClass1()"
   ]
  },
  {
   "cell_type": "code",
   "execution_count": 23,
   "metadata": {},
   "outputs": [
    {
     "data": {
      "text/plain": [
       "1"
      ]
     },
     "execution_count": 23,
     "metadata": {},
     "output_type": "execute_result"
    }
   ],
   "source": [
    "class MyClass2(Base):\n",
    "\n",
    "    def m1(self):\n",
    "        return 1\n",
    "\n",
    "    def m2(self):\n",
    "        return 2\n",
    "\n",
    "    def m3(self):\n",
    "        return 3\n",
    "\n",
    "\n",
    "my_class = MyClass2()\n",
    "my_class.m1()"
   ]
  },
  {
   "attachments": {},
   "cell_type": "markdown",
   "metadata": {},
   "source": [
    "## Shape example"
   ]
  },
  {
   "cell_type": "code",
   "execution_count": 24,
   "metadata": {},
   "outputs": [],
   "source": [
    "class Shape(metaclass=abc.ABCMeta):\n",
    "\n",
    "    @abc.abstractmethod\n",
    "    def print_properties(self):\n",
    "        return\n",
    "\n",
    "    @abc.abstractmethod\n",
    "    def computer_perimeter(self):\n",
    "        return\n",
    "\n",
    "    @abc.abstractmethod\n",
    "    def compute_area(self):\n",
    "        pass"
   ]
  },
  {
   "cell_type": "code",
   "execution_count": 25,
   "metadata": {},
   "outputs": [],
   "source": [
    "class Rectangle(Shape):\n",
    "\n",
    "    def __init__(self, a, b) -> None:\n",
    "        super().__init__()\n",
    "        self.a = a\n",
    "        self.b = b\n",
    "\n",
    "    def print_properties(self):\n",
    "        print(f\"Rectanlge with length {self.a} and {self.b}\")\n",
    "\n",
    "    def computer_perimeter(self):\n",
    "        return 2 * self.a + 2 * self.b\n",
    "\n",
    "    def compute_area(self):\n",
    "        return self.a * self.b\n",
    "\n",
    "\n",
    "class Circle(Shape):\n",
    "\n",
    "    def __init__(self, radius) -> None:\n",
    "        super().__init__()\n",
    "        self.radius = radius\n",
    "\n",
    "    def print_properties(self):\n",
    "        print(f\"Circle with radius {self.radius}\")\n",
    "\n",
    "    def computer_perimeter(self):\n",
    "        return 2 * self.radius * math.pi\n",
    "\n",
    "    def compute_area(self):\n",
    "        return math.pow(self.radius, 2) * math.pi"
   ]
  },
  {
   "cell_type": "code",
   "execution_count": 26,
   "metadata": {},
   "outputs": [
    {
     "name": "stdout",
     "output_type": "stream",
     "text": [
      "6\n",
      "10\n",
      "6.283185307179586\n",
      "3.141592653589793\n"
     ]
    }
   ],
   "source": [
    "my_rectangle = Rectangle(2, 3)\n",
    "print(my_rectangle.compute_area())\n",
    "print(my_rectangle.computer_perimeter())\n",
    "\n",
    "my_circle = Circle(1)\n",
    "print(my_circle.computer_perimeter())\n",
    "print(my_circle.compute_area())"
   ]
  }
 ],
 "metadata": {
  "kernelspec": {
   "display_name": ".venv",
   "language": "python",
   "name": "python3"
  },
  "language_info": {
   "codemirror_mode": {
    "name": "ipython",
    "version": 3
   },
   "file_extension": ".py",
   "mimetype": "text/x-python",
   "name": "python",
   "nbconvert_exporter": "python",
   "pygments_lexer": "ipython3",
   "version": "3.10.8"
  },
  "orig_nbformat": 4
 },
 "nbformat": 4,
 "nbformat_minor": 2
}
