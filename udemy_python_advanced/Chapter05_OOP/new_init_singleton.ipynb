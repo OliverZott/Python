{
 "cells": [
  {
   "attachments": {},
   "cell_type": "markdown",
   "metadata": {},
   "source": [
    "# Init vs New\n",
    "\n",
    "- everything in python inherits from **object**\n",
    "- __new__ is the first step of instance creation. It's called first, and is responsible for returning a new instance of your class. In contrast, __init__ doesn't return anything; it's only responsible for initializing the instance after it's been created.\n",
    "- In general, you shouldn't need to override __new__ unless you're subclassing an immutable type like str, int, unicode or tuple."
   ]
  },
  {
   "cell_type": "code",
   "execution_count": 26,
   "metadata": {},
   "outputs": [],
   "source": [
    "class Data:\n",
    "    def __new__(cls, name):\n",
    "        print(f\"Creating a new {cls} obj\")\n",
    "        obj = object.__new__(cls)\n",
    "        return obj\n",
    "\n",
    "    def __init__(self, name) -> None:\n",
    "        print(f\"Initializing a new {self.__class__.__name__} obj\")\n",
    "        self.name = name"
   ]
  },
  {
   "cell_type": "code",
   "execution_count": 27,
   "metadata": {},
   "outputs": [
    {
     "name": "stdout",
     "output_type": "stream",
     "text": [
      "Creating a new <class '__main__.Data'> obj\n",
      "Initializing a new Data obj\n"
     ]
    }
   ],
   "source": [
    "data = Data(\"Olli\")"
   ]
  },
  {
   "attachments": {},
   "cell_type": "markdown",
   "metadata": {},
   "source": [
    "## Singleton"
   ]
  },
  {
   "cell_type": "code",
   "execution_count": 28,
   "metadata": {},
   "outputs": [],
   "source": [
    "class Singleton:\n",
    "    _instance = None  # keep instance reference\n",
    "\n",
    "    def __new__(cls, *args, **kwargs):\n",
    "        if not cls._instance:\n",
    "            cls._instance = object.__new__(cls, *args, **kwargs)\n",
    "        else:\n",
    "            print(\n",
    "                f\"Object {cls._instance} with id: '{id(cls._instance)}' already exists\")\n",
    "        return cls._instance"
   ]
  },
  {
   "cell_type": "code",
   "execution_count": 29,
   "metadata": {},
   "outputs": [
    {
     "name": "stdout",
     "output_type": "stream",
     "text": [
      "<__main__.Singleton object at 0x000001D7C34FF850> 2026206394448\n",
      "Object <__main__.Singleton object at 0x000001D7C34FF850> with id: '2026206394448' already exists\n"
     ]
    }
   ],
   "source": [
    "obj1 = Singleton()\n",
    "print(obj1, id(obj1))\n",
    "\n",
    "obj2 = Singleton()"
   ]
  }
 ],
 "metadata": {
  "kernelspec": {
   "display_name": "venv",
   "language": "python",
   "name": "python3"
  },
  "language_info": {
   "codemirror_mode": {
    "name": "ipython",
    "version": 3
   },
   "file_extension": ".py",
   "mimetype": "text/x-python",
   "name": "python",
   "nbconvert_exporter": "python",
   "pygments_lexer": "ipython3",
   "version": "3.11.4"
  },
  "orig_nbformat": 4
 },
 "nbformat": 4,
 "nbformat_minor": 2
}
