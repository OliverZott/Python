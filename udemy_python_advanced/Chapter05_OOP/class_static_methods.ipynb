{
 "cells": [
  {
   "attachments": {},
   "cell_type": "markdown",
   "metadata": {},
   "source": [
    "# Methods\n",
    "\n",
    "- is a function that is associated with a class \n",
    "\n",
    "## Class Method\n",
    "\n",
    "- ... can only modify the state of the class not a single instance\n",
    "- ... returns new instance of that class, smth like a factory\n",
    "- is a method that is associated with a class instance\n",
    "\n",
    "## Static Method\n",
    "\n",
    "- Can neuther modify the object state of an instance nor class state itself\n",
    "- It is rather a way to namepace methods\n",
    "- is a method that is associated with a class but not with an instance of that class\n",
    "- can be called by a class without an instance of that class being created"
   ]
  },
  {
   "cell_type": "code",
   "execution_count": 24,
   "metadata": {},
   "outputs": [],
   "source": [
    "from time import localtime"
   ]
  },
  {
   "cell_type": "code",
   "execution_count": 25,
   "metadata": {},
   "outputs": [],
   "source": [
    "class Date:\n",
    "    def __init__(self, year, month, day) -> None:\n",
    "        self.year = year\n",
    "        self.month = month\n",
    "        self.day = day\n",
    "\n",
    "    def __repr__(self):\n",
    "        return f\"{self.year}/{self.month}/{self.day}\"\n",
    "\n",
    "    # useless\n",
    "    def print_date(self):\n",
    "        print(self)\n",
    "\n",
    "    # \"cls\" is just a convention, not to use \"class\"\n",
    "    @classmethod\n",
    "    def get_todays_date(cls):\n",
    "        date = cls.__new__(cls)  # new instance creeated\n",
    "        time = localtime()\n",
    "        date.year = time.tm_year\n",
    "        date.month = time.tm_mon\n",
    "        date.day = time.tm_mday\n",
    "        return date\n",
    "\n",
    "    @staticmethod\n",
    "    def is_todays_date(date):\n",
    "        time = localtime()\n",
    "        return (date.year == time.tm_year and date.month == time.tm_mon and date.day == time.tm_mday)"
   ]
  },
  {
   "cell_type": "code",
   "execution_count": 26,
   "metadata": {},
   "outputs": [
    {
     "name": "stdout",
     "output_type": "stream",
     "text": [
      "2023/06/29\n",
      "2023/6/29\n"
     ]
    },
    {
     "data": {
      "text/plain": [
       "True"
      ]
     },
     "execution_count": 26,
     "metadata": {},
     "output_type": "execute_result"
    }
   ],
   "source": [
    "my_date = Date(\"2023\", \"06\", \"29\")\n",
    "\n",
    "# call method\n",
    "my_date.print_date()\n",
    "\n",
    "# call class method\n",
    "today = Date.get_todays_date()\n",
    "print(today)\n",
    "\n",
    "# call static method\n",
    "Date.is_todays_date(today)"
   ]
  }
 ],
 "metadata": {
  "kernelspec": {
   "display_name": ".venv",
   "language": "python",
   "name": "python3"
  },
  "language_info": {
   "codemirror_mode": {
    "name": "ipython",
    "version": 3
   },
   "file_extension": ".py",
   "mimetype": "text/x-python",
   "name": "python",
   "nbconvert_exporter": "python",
   "pygments_lexer": "ipython3",
   "version": "3.10.8"
  },
  "orig_nbformat": 4
 },
 "nbformat": 4,
 "nbformat_minor": 2
}
