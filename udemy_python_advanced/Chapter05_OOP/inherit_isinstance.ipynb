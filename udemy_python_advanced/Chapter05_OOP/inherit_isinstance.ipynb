{
 "cells": [
  {
   "attachments": {},
   "cell_type": "markdown",
   "metadata": {},
   "source": [
    "# Inheritance and instances\n",
    "\n",
    "- `Class.mro()` ...method resolution order\n",
    "\n",
    "- `type(obj)` ...returns the type of the object\n",
    "\n",
    "- `isinstance(cls, class_or_tuple, /)` \n",
    "\n",
    "- `issubclass(cls, class_or_tuple, /)`"
   ]
  },
  {
   "attachments": {},
   "cell_type": "markdown",
   "metadata": {},
   "source": [
    "## Inheritance order"
   ]
  },
  {
   "cell_type": "code",
   "execution_count": 11,
   "metadata": {},
   "outputs": [],
   "source": [
    "class A:\n",
    "    def __init__(self) -> None:\n",
    "        print(\"Init class A\")\n",
    "        self.a = 1\n",
    "\n",
    "\n",
    "class B(A):\n",
    "    def __init__(self) -> None:\n",
    "        super().__init__()\n",
    "        print(\"Init class B\")\n",
    "        self.b = self.a + 1\n",
    "\n",
    "\n",
    "class C(A):\n",
    "    def __init__(self) -> None:\n",
    "        super().__init__()\n",
    "        print(\"Init class C\")\n",
    "        self.c = self.a - 1\n",
    "\n",
    "\n",
    "class D(B, C):\n",
    "    def __init__(self) -> None:\n",
    "        super().__init__()\n",
    "        print(\"Init class D\")\n",
    "        self.d = self.c + 1"
   ]
  },
  {
   "cell_type": "code",
   "execution_count": 12,
   "metadata": {},
   "outputs": [
    {
     "name": "stdout",
     "output_type": "stream",
     "text": [
      "Init class A\n",
      "\n",
      "\n",
      "Init class A\n",
      "Init class B\n",
      "\n",
      "\n",
      "Init class A\n",
      "Init class C\n",
      "\n",
      "\n",
      "Init class A\n",
      "Init class C\n",
      "Init class B\n",
      "Init class D\n",
      "\n",
      "\n"
     ]
    }
   ],
   "source": [
    "cls_a = A()\n",
    "print(\"\\n\")\n",
    "\n",
    "cls_b = B()\n",
    "print(\"\\n\")\n",
    "\n",
    "cls_c = C()\n",
    "print(\"\\n\")\n",
    "\n",
    "cls_d = D()\n",
    "print(\"\\n\")"
   ]
  },
  {
   "cell_type": "code",
   "execution_count": 13,
   "metadata": {},
   "outputs": [
    {
     "data": {
      "text/plain": [
       "[__main__.D, __main__.B, __main__.C, __main__.A, object]"
      ]
     },
     "execution_count": 13,
     "metadata": {},
     "output_type": "execute_result"
    }
   ],
   "source": [
    "D.mro()"
   ]
  },
  {
   "attachments": {},
   "cell_type": "markdown",
   "metadata": {},
   "source": [
    "## type & isinstance\n",
    "\n",
    "- `type` ...check the type of an object\n",
    "    - does not consider inheritance !!!!\n",
    "- `isinstance` ...check if an object is an instance of a class\n",
    "    - consider inheritance"
   ]
  },
  {
   "cell_type": "code",
   "execution_count": 14,
   "metadata": {},
   "outputs": [
    {
     "name": "stdout",
     "output_type": "stream",
     "text": [
      "True\n",
      "False\n",
      "False\n"
     ]
    }
   ],
   "source": [
    "print(type(cls_b) == B)\n",
    "\n",
    "print(type(cls_a) == B)\n",
    "\n",
    "print(type(cls_d) == B)"
   ]
  },
  {
   "cell_type": "code",
   "execution_count": 15,
   "metadata": {},
   "outputs": [
    {
     "name": "stdout",
     "output_type": "stream",
     "text": [
      "True\n",
      "False\n",
      "True\n"
     ]
    }
   ],
   "source": [
    "print(isinstance(cls_b, B))\n",
    "\n",
    "print(isinstance(cls_a, B))\n",
    "\n",
    "print(isinstance(cls_d, B))"
   ]
  },
  {
   "cell_type": "code",
   "execution_count": 17,
   "metadata": {},
   "outputs": [
    {
     "name": "stdout",
     "output_type": "stream",
     "text": [
      "True\n"
     ]
    }
   ],
   "source": [
    "print(issubclass(D, B))"
   ]
  },
  {
   "cell_type": "code",
   "execution_count": null,
   "metadata": {},
   "outputs": [],
   "source": []
  }
 ],
 "metadata": {
  "kernelspec": {
   "display_name": "venv",
   "language": "python",
   "name": "python3"
  },
  "language_info": {
   "codemirror_mode": {
    "name": "ipython",
    "version": 3
   },
   "file_extension": ".py",
   "mimetype": "text/x-python",
   "name": "python",
   "nbconvert_exporter": "python",
   "pygments_lexer": "ipython3",
   "version": "3.11.4"
  },
  "orig_nbformat": 4
 },
 "nbformat": 4,
 "nbformat_minor": 2
}
