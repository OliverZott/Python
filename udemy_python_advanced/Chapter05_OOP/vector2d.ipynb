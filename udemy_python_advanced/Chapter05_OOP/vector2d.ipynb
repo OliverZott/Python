{
 "cells": [
  {
   "attachments": {},
   "cell_type": "markdown",
   "metadata": {},
   "source": [
    "# Curoms Vector 2D Class\n",
    "\n",
    "- `@total_order` ... if eq and one other comparison are defined, the others are defined automatically"
   ]
  },
  {
   "cell_type": "code",
   "execution_count": 96,
   "metadata": {},
   "outputs": [],
   "source": [
    "import numbers\n",
    "from math import sqrt\n",
    "from functools import total_ordering"
   ]
  },
  {
   "cell_type": "code",
   "execution_count": 97,
   "metadata": {},
   "outputs": [],
   "source": [
    "@total_ordering\n",
    "class Vector2D:\n",
    "    def __init__(self, x=0.0, y=0.0) -> None:\n",
    "        if isinstance(x, (int, float)) and isinstance(y, numbers.Real):\n",
    "            self.x = x\n",
    "            self.y = y\n",
    "        else:\n",
    "            raise TypeError(f\"Wrong value for x ({type(x)}) or y ({type(y)})\")\n",
    "\n",
    "    def __call__(self):\n",
    "        print(f\"Calling __call__ method of {__name__}\")\n",
    "\n",
    "    def __repr__(self):\n",
    "        return f\"vector.Vector2D({self.x}, {self.y})\"\n",
    "\n",
    "    def __str__(self):\n",
    "        return f\"str: ({self.x}, {self.y})\"\n",
    "\n",
    "    def __abs__(self):\n",
    "        return sqrt(pow(self.x, 2) + pow(self.y, 2))\n",
    "\n",
    "    def __eq__(self, other_vector):\n",
    "        return self.x == other_vector.x and self.y == other_vector.y\n",
    "\n",
    "    def __lt__(self, other_vector):\n",
    "        # call dunder method or inbuild\n",
    "        return self.__abs__() < abs(other_vector)\n",
    "\n",
    "    def __add__(self, other_vector):\n",
    "        if not isinstance(other_vector, Vector2D):\n",
    "            raise TypeError(\"You must pass in a Vector2D instance!\")\n",
    "        x = self.x + other_vector.x\n",
    "        y = self.y + other_vector.y\n",
    "        return Vector2D(x, y)\n",
    "\n",
    "    def __sub__(self, other_vector):\n",
    "        if not isinstance(other_vector, Vector2D):\n",
    "            raise TypeError(\"You must pass in a Vector2D instance!\")\n",
    "        x = self.x - other_vector.x\n",
    "        y = self.y - other_vector.y\n",
    "        return Vector2D(x, y)\n",
    "\n",
    "    def __mul__(self, other):\n",
    "        if isinstance(other, Vector2D):\n",
    "            x = self.y * other.x - self.x * other.y\n",
    "            y = self.x * other.y - self.y * other.x\n",
    "            return Vector2D(x, y)\n",
    "        elif isinstance(other, (int or float)):\n",
    "            self.x *= other\n",
    "            self.y *= other\n",
    "            return (self)\n",
    "\n",
    "    def __truediv__(self, other):\n",
    "        return Vector2D(self.x / other, self.y / other)"
   ]
  },
  {
   "attachments": {},
   "cell_type": "markdown",
   "metadata": {},
   "source": [
    "## Check Math"
   ]
  },
  {
   "cell_type": "code",
   "execution_count": 98,
   "metadata": {},
   "outputs": [
    {
     "name": "stdout",
     "output_type": "stream",
     "text": [
      "vector.Vector2D(2.3, 5.2)\n",
      "str: (2.3, 5.2)\n",
      "str: (2.3, 5.2)\n"
     ]
    }
   ],
   "source": [
    "v1 = Vector2D(2.3, 5.2)\n",
    "v2 = Vector2D(1.4, 3.1)\n",
    "\n",
    "print(repr(v1))\n",
    "print(str(v1))\n",
    "print(v1)  # calls __str__"
   ]
  },
  {
   "cell_type": "code",
   "execution_count": 99,
   "metadata": {},
   "outputs": [
    {
     "name": "stdout",
     "output_type": "stream",
     "text": [
      "False\n",
      "True\n",
      "False\n",
      "True\n"
     ]
    }
   ],
   "source": [
    "print(v1 < v2)\n",
    "print(v1 > v2)\n",
    "print(v1 == v2)\n",
    "print(v1 != v2)"
   ]
  },
  {
   "cell_type": "code",
   "execution_count": 100,
   "metadata": {},
   "outputs": [
    {
     "name": "stdout",
     "output_type": "stream",
     "text": [
      "str: (0.14999999999999947, -0.14999999999999947)\n",
      "str: (9.2, 20.8)\n"
     ]
    }
   ],
   "source": [
    "print(v1 * v2)\n",
    "print(v1 * 4)"
   ]
  },
  {
   "cell_type": "code",
   "execution_count": 101,
   "metadata": {},
   "outputs": [
    {
     "name": "stdout",
     "output_type": "stream",
     "text": [
      "str: (1, -1)\n",
      "str: (6, 3)\n",
      "str: (3.0, 1.5)\n"
     ]
    }
   ],
   "source": [
    "v3 = Vector2D(2, 1)\n",
    "v4 = Vector2D(1, 0)\n",
    "\n",
    "print(v3*v4)\n",
    "print(v3 * 3)\n",
    "print(v3/2)"
   ]
  },
  {
   "attachments": {},
   "cell_type": "markdown",
   "metadata": {},
   "source": [
    "## Check Exceptions"
   ]
  },
  {
   "cell_type": "code",
   "execution_count": 105,
   "metadata": {},
   "outputs": [
    {
     "name": "stdout",
     "output_type": "stream",
     "text": [
      "Wrong value for x (<class 'int'>) or y (<class 'str'>), <method-wrapper '__str__' of TypeError object at 0x00000200C768E8E0>\n"
     ]
    }
   ],
   "source": [
    "try:\n",
    "    Vector2D(2, \"43\")\n",
    "except Exception as e:\n",
    "    print(f\"{e}, {e.__str__}\")"
   ]
  },
  {
   "cell_type": "code",
   "execution_count": 107,
   "metadata": {},
   "outputs": [
    {
     "name": "stdout",
     "output_type": "stream",
     "text": [
      "You must pass in a Vector2D instance!, <method-wrapper '__str__' of TypeError object at 0x00000200C7790CC0>\n"
     ]
    }
   ],
   "source": [
    "try:\n",
    "    v1 + \"345\"\n",
    "except TypeError as e:\n",
    "    print(f\"{e}, {e.__str__}\")"
   ]
  },
  {
   "cell_type": "code",
   "execution_count": null,
   "metadata": {},
   "outputs": [],
   "source": []
  }
 ],
 "metadata": {
  "kernelspec": {
   "display_name": ".venv",
   "language": "python",
   "name": "python3"
  },
  "language_info": {
   "codemirror_mode": {
    "name": "ipython",
    "version": 3
   },
   "file_extension": ".py",
   "mimetype": "text/x-python",
   "name": "python",
   "nbconvert_exporter": "python",
   "pygments_lexer": "ipython3",
   "version": "3.10.8"
  },
  "orig_nbformat": 4
 },
 "nbformat": 4,
 "nbformat_minor": 2
}
