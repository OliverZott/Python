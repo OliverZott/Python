{
 "cells": [
  {
   "attachments": {},
   "cell_type": "markdown",
   "metadata": {},
   "source": [
    "# Enum\n",
    "\n",
    "- Enum is a class in python for creating enumerations, which are a set of symbolic names (members) bound to unique, constant values."
   ]
  },
  {
   "cell_type": "code",
   "execution_count": 1,
   "metadata": {},
   "outputs": [],
   "source": [
    "from enum import Enum\n",
    "from enum import IntEnum\n",
    "from enum import auto"
   ]
  },
  {
   "cell_type": "code",
   "execution_count": 2,
   "metadata": {},
   "outputs": [],
   "source": [
    "class Colors(Enum):\n",
    "    RED = 1\n",
    "    BLUE = 2\n",
    "    GREEN = 3"
   ]
  },
  {
   "cell_type": "code",
   "execution_count": 5,
   "metadata": {},
   "outputs": [
    {
     "name": "stdout",
     "output_type": "stream",
     "text": [
      "Colors.RED\n",
      "<class 'enum.EnumType'>\n",
      "<enum 'Colors'>\n"
     ]
    }
   ],
   "source": [
    "color = Colors.RED\n",
    "\n",
    "print(color)\n",
    "print(type(Colors))\n",
    "print(type(Colors.RED))"
   ]
  },
  {
   "attachments": {},
   "cell_type": "markdown",
   "metadata": {},
   "source": [
    "## auto"
   ]
  },
  {
   "cell_type": "code",
   "execution_count": 6,
   "metadata": {},
   "outputs": [],
   "source": [
    "class Colors2(Enum):\n",
    "    RED = auto()\n",
    "    BLUE = auto()\n",
    "    GREEN = auto()"
   ]
  },
  {
   "cell_type": "code",
   "execution_count": 7,
   "metadata": {},
   "outputs": [
    {
     "name": "stdout",
     "output_type": "stream",
     "text": [
      "[<Colors2.RED: 1>, <Colors2.BLUE: 2>, <Colors2.GREEN: 3>]\n"
     ]
    }
   ],
   "source": [
    "print(list(Colors2))"
   ]
  }
 ],
 "metadata": {
  "kernelspec": {
   "display_name": "venv",
   "language": "python",
   "name": "python3"
  },
  "language_info": {
   "codemirror_mode": {
    "name": "ipython",
    "version": 3
   },
   "file_extension": ".py",
   "mimetype": "text/x-python",
   "name": "python",
   "nbconvert_exporter": "python",
   "pygments_lexer": "ipython3",
   "version": "3.11.4"
  },
  "orig_nbformat": 4
 },
 "nbformat": 4,
 "nbformat_minor": 2
}
