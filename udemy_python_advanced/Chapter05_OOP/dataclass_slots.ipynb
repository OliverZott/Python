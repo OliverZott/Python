{
 "cells": [
  {
   "attachments": {},
   "cell_type": "markdown",
   "metadata": {},
   "source": [
    "# Dataclass & slots\n",
    "\n",
    "- dataclass is a decorator that is used to automatically generate special methods for a class\n",
    "- slots is a class attribute that is used to explicitly declare data attributes and save memory\n",
    "\n",
    "DataClass features\n",
    "\n",
    "- repr\n",
    "- frozen\n",
    "- slots\n"
   ]
  },
  {
   "cell_type": "code",
   "execution_count": 35,
   "metadata": {},
   "outputs": [],
   "source": [
    "from dataclasses import dataclass\n",
    "from dataclasses import field"
   ]
  },
  {
   "attachments": {},
   "cell_type": "markdown",
   "metadata": {},
   "source": [
    "## without dataclass\n",
    "\n",
    "- can add field dynamically\n",
    "- memory cost is high"
   ]
  },
  {
   "cell_type": "code",
   "execution_count": 36,
   "metadata": {},
   "outputs": [],
   "source": [
    "class User0:\n",
    "    def __init__(self, name: str, age: int):\n",
    "        self.name = name\n",
    "        self.age = age"
   ]
  },
  {
   "cell_type": "code",
   "execution_count": 37,
   "metadata": {},
   "outputs": [
    {
     "name": "stdout",
     "output_type": "stream",
     "text": [
      "<__main__.User0 object at 0x0000015EAB114CD0>\n",
      "{'name': 'John', 'age': 61}\n"
     ]
    }
   ],
   "source": [
    "user0 = User0('John', 61)\n",
    "\n",
    "print(user0)\n",
    "print(user0.__dict__)"
   ]
  },
  {
   "cell_type": "code",
   "execution_count": 38,
   "metadata": {},
   "outputs": [
    {
     "name": "stdout",
     "output_type": "stream",
     "text": [
      "{'name': 'John', 'age': 61, 'new_attr': 'blub'}\n"
     ]
    }
   ],
   "source": [
    "user0.new_attr = \"blub\"\n",
    "print(user0.__dict__)"
   ]
  },
  {
   "attachments": {},
   "cell_type": "markdown",
   "metadata": {},
   "source": [
    "## DataClass (1)"
   ]
  },
  {
   "cell_type": "code",
   "execution_count": 39,
   "metadata": {},
   "outputs": [],
   "source": [
    "@dataclass\n",
    "class User1:\n",
    "    name: str\n",
    "    age: int"
   ]
  },
  {
   "cell_type": "code",
   "execution_count": 40,
   "metadata": {},
   "outputs": [
    {
     "name": "stdout",
     "output_type": "stream",
     "text": [
      "User1(name='John', age=45)\n",
      "{'name': 'John', 'age': 45}\n"
     ]
    }
   ],
   "source": [
    "user1 = User1(\"John\", 45)\n",
    "\n",
    "print(user1)  # alread shows readable output\n",
    "print(user1.__dict__)"
   ]
  },
  {
   "attachments": {},
   "cell_type": "markdown",
   "metadata": {},
   "source": [
    "## DataClass (2)\n",
    "\n",
    "- slots"
   ]
  },
  {
   "cell_type": "code",
   "execution_count": 41,
   "metadata": {},
   "outputs": [],
   "source": [
    "@dataclass(slots=True)  # no dict will be created (better for memory)\n",
    "class User2:\n",
    "    name: str\n",
    "    age: int"
   ]
  },
  {
   "cell_type": "code",
   "execution_count": 42,
   "metadata": {},
   "outputs": [
    {
     "ename": "AttributeError",
     "evalue": "'User2' object has no attribute '__dict__'",
     "output_type": "error",
     "traceback": [
      "\u001b[1;31m---------------------------------------------------------------------------\u001b[0m",
      "\u001b[1;31mAttributeError\u001b[0m                            Traceback (most recent call last)",
      "Cell \u001b[1;32mIn[42], line 3\u001b[0m\n\u001b[0;32m      1\u001b[0m user2 \u001b[39m=\u001b[39m User2(\u001b[39m\"\u001b[39m\u001b[39mJohn\u001b[39m\u001b[39m\"\u001b[39m, \u001b[39m35\u001b[39m)\n\u001b[1;32m----> 3\u001b[0m \u001b[39mprint\u001b[39m(user2\u001b[39m.\u001b[39;49m\u001b[39m__dict__\u001b[39;49m)\n",
      "\u001b[1;31mAttributeError\u001b[0m: 'User2' object has no attribute '__dict__'"
     ]
    }
   ],
   "source": [
    "user2 = User2(\"John\", 35)\n",
    "\n",
    "print(user2.__dict__)"
   ]
  },
  {
   "attachments": {},
   "cell_type": "markdown",
   "metadata": {},
   "source": [
    "## DataClass (3)\n",
    "\n",
    "- default values\n",
    "- fields ..."
   ]
  },
  {
   "cell_type": "code",
   "execution_count": 43,
   "metadata": {},
   "outputs": [],
   "source": [
    "@dataclass(slots=True)\n",
    "class User3:\n",
    "    name: str\n",
    "    age: int\n",
    "    is_active: bool = False\n",
    "    orders: list[float] = field(\n",
    "        default_factory=list, compare=False, hash=False, repr=False)  # Never use mutable types for default values --> field\n",
    "\n",
    "    # dataclasses can also have methods\n",
    "    def method(self):\n",
    "        print(self.name)"
   ]
  },
  {
   "cell_type": "code",
   "execution_count": 45,
   "metadata": {},
   "outputs": [
    {
     "name": "stdout",
     "output_type": "stream",
     "text": [
      "User3(name='John', age=59, is_active=False)\n",
      "John\n"
     ]
    }
   ],
   "source": [
    "user3 = User3(\"John\", 59)\n",
    "\n",
    "print(user3)\n",
    "\n",
    "user3.method()"
   ]
  },
  {
   "cell_type": "code",
   "execution_count": null,
   "metadata": {},
   "outputs": [],
   "source": []
  }
 ],
 "metadata": {
  "kernelspec": {
   "display_name": "venv",
   "language": "python",
   "name": "python3"
  },
  "language_info": {
   "codemirror_mode": {
    "name": "ipython",
    "version": 3
   },
   "file_extension": ".py",
   "mimetype": "text/x-python",
   "name": "python",
   "nbconvert_exporter": "python",
   "pygments_lexer": "ipython3",
   "version": "3.11.4"
  },
  "orig_nbformat": 4
 },
 "nbformat": 4,
 "nbformat_minor": 2
}
