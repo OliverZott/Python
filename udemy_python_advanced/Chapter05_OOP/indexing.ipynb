{
 "cells": [
  {
   "attachments": {},
   "cell_type": "markdown",
   "metadata": {},
   "source": [
    "# Create custom indexable class\n",
    "\n",
    "- https://docs.python.org/3/library/collections.abc.html#collections-abstract-base-classes\n",
    "- https://docs.python.org/3/library/collections.abc.html#collections.abc.MutableSequence\n"
   ]
  },
  {
   "cell_type": "code",
   "execution_count": 40,
   "metadata": {},
   "outputs": [],
   "source": [
    "from collections.abc import MutableSequence"
   ]
  },
  {
   "cell_type": "code",
   "execution_count": 41,
   "metadata": {},
   "outputs": [],
   "source": [
    "class CustomList(MutableSequence):\n",
    "    def __init__(self, values=None) -> None:\n",
    "        super().__init__()\n",
    "        if values:\n",
    "            self._values = values\n",
    "        else:\n",
    "            self._values = []\n",
    "\n",
    "    def __setitem__(self, index, item):\n",
    "        self._values[index] = item\n",
    "\n",
    "    def __delitem__(self, index):\n",
    "        del self._values[index]\n",
    "\n",
    "    def __getitem__(self, index):\n",
    "        return self._values[index]\n",
    "\n",
    "    def __str__(self):\n",
    "        return str(self._values)\n",
    "\n",
    "    def __len__(self):\n",
    "        return len(self._values)\n",
    "\n",
    "    def insert(self, index, value):\n",
    "        self._values.insert(index, value)\n",
    "\n",
    "    def append(self, value):\n",
    "        self._values.append(value)"
   ]
  },
  {
   "cell_type": "code",
   "execution_count": 42,
   "metadata": {},
   "outputs": [
    {
     "name": "stdout",
     "output_type": "stream",
     "text": [
      "3\n",
      "42\n"
     ]
    }
   ],
   "source": [
    "li = CustomList([1, 2, 3])\n",
    "\n",
    "li[1] = 42\n",
    "\n",
    "\n",
    "print(len(li))\n",
    "print(li[1])"
   ]
  }
 ],
 "metadata": {
  "kernelspec": {
   "display_name": "venv",
   "language": "python",
   "name": "python3"
  },
  "language_info": {
   "codemirror_mode": {
    "name": "ipython",
    "version": 3
   },
   "file_extension": ".py",
   "mimetype": "text/x-python",
   "name": "python",
   "nbconvert_exporter": "python",
   "pygments_lexer": "ipython3",
   "version": "3.11.4"
  },
  "orig_nbformat": 4
 },
 "nbformat": 4,
 "nbformat_minor": 2
}
