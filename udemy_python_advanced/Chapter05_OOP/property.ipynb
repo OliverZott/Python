{
 "cells": [
  {
   "attachments": {},
   "cell_type": "markdown",
   "metadata": {},
   "source": [
    "# Properties\n",
    "\n",
    "- other languages: getter / setter to restrict access to attributes\n",
    "-  np **private** - in python we fake **private** it with underscore\n"
   ]
  },
  {
   "cell_type": "code",
   "execution_count": 39,
   "metadata": {},
   "outputs": [],
   "source": [
    "from functools import cached_property"
   ]
  },
  {
   "attachments": {},
   "cell_type": "markdown",
   "metadata": {},
   "source": [
    "## Like other languages"
   ]
  },
  {
   "cell_type": "code",
   "execution_count": 40,
   "metadata": {},
   "outputs": [],
   "source": [
    "# how it would look like in other language\n",
    "class UserClassic:\n",
    "    def __init__(self, name, user_id) -> None:\n",
    "        self._name = name\n",
    "        self._id = user_id\n",
    "\n",
    "    def __repr__(self) -> str:\n",
    "        return f\"{self._name} - {self._id}\"\n",
    "\n",
    "    def get_name(self):\n",
    "        return self._name\n",
    "\n",
    "    def set_name(self, new_name):\n",
    "        self._name = new_name\n",
    "\n",
    "    def del_name(self):\n",
    "        self._name = \"\""
   ]
  },
  {
   "cell_type": "code",
   "execution_count": 41,
   "metadata": {},
   "outputs": [
    {
     "name": "stdout",
     "output_type": "stream",
     "text": [
      "Joe - 123\n",
      "Blub\n",
      "Blub\n"
     ]
    }
   ],
   "source": [
    "user1 = UserClassic(\"Joe\", 123)\n",
    "print(user1)\n",
    "\n",
    "user1._name = \"Blub\"\n",
    "\n",
    "print(user1._name)\n",
    "print(user1.get_name())"
   ]
  },
  {
   "attachments": {},
   "cell_type": "markdown",
   "metadata": {},
   "source": [
    "## Python version"
   ]
  },
  {
   "cell_type": "code",
   "execution_count": 42,
   "metadata": {},
   "outputs": [],
   "source": [
    "class User:\n",
    "    def __init__(self, name, user_id) -> None:\n",
    "        self._name = name\n",
    "        self._id = user_id\n",
    "\n",
    "    def __repr__(self) -> str:\n",
    "        return f\"{self._name} - {self._id}\"\n",
    "\n",
    "    # getter\n",
    "    @property\n",
    "    def name(self):\n",
    "        return self._name\n",
    "\n",
    "    # setter (mst have same name as public var)\n",
    "    @name.setter\n",
    "    def name(self, new_name):\n",
    "        self._name = new_name\n",
    "\n",
    "    # deleter\n",
    "    @name.deleter\n",
    "    def name(self):\n",
    "        self._name = \"\"\n",
    "\n",
    "    # cached property doesnt allow setter or deleter!\n",
    "    @cached_property\n",
    "    def user_id(self):\n",
    "        return self._id"
   ]
  },
  {
   "cell_type": "code",
   "execution_count": 43,
   "metadata": {},
   "outputs": [
    {
     "name": "stdout",
     "output_type": "stream",
     "text": [
      "John\n",
      "123\n"
     ]
    }
   ],
   "source": [
    "user2 = User(\"John\", 123)\n",
    "\n",
    "# use getter\n",
    "print(user2.name)\n",
    "\n",
    "user2.name = \"Sigi\"\n",
    "\n",
    "print(user2.user_id)"
   ]
  }
 ],
 "metadata": {
  "kernelspec": {
   "display_name": ".venv",
   "language": "python",
   "name": "python3"
  },
  "language_info": {
   "codemirror_mode": {
    "name": "ipython",
    "version": 3
   },
   "file_extension": ".py",
   "mimetype": "text/x-python",
   "name": "python",
   "nbconvert_exporter": "python",
   "pygments_lexer": "ipython3",
   "version": "3.10.8"
  },
  "orig_nbformat": 4
 },
 "nbformat": 4,
 "nbformat_minor": 2
}
