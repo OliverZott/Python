{
 "cells": [
  {
   "attachments": {},
   "cell_type": "markdown",
   "metadata": {},
   "source": [
    "# Variable References and Memory\n",
    "\n",
    "- python interpreter pre-assigns standard values on start:\n",
    "    - True and False for bool\n",
    "    - some low integer values for int\n",
    "    - empty string for str\n",
    "- all variables point to same memory adress for these values\n",
    "- NOT for all datatypes:\n",
    "  - float / complex types \n",
    "  - string with more than 1 character\n",
    "  - containers (list, tuple, dict, set)"
   ]
  },
  {
   "cell_type": "code",
   "execution_count": 9,
   "metadata": {},
   "outputs": [],
   "source": [
    "def print_memory(var):\n",
    "    print(f\"var: {var}, id: {id(var)}, adr: {hex(id(var))}\")\n"
   ]
  },
  {
   "cell_type": "code",
   "execution_count": 12,
   "metadata": {},
   "outputs": [
    {
     "name": "stdout",
     "output_type": "stream",
     "text": [
      "var: 66, id: 2207604869392, adr: 0x201ff810910\n",
      "var: 66, id: 2207604869392, adr: 0x201ff810910\n",
      "var: 512, id: 2205536345584, adr: 0x2018435ddf0\n",
      "var: , id: 2207604899888, adr: 0x201ff818030\n",
      "var: , id: 2207604899888, adr: 0x201ff818030\n",
      "var: True, id: 140714402138984, adr: 0x7ffa9ff44b68\n",
      "var: True, id: 140714402138984, adr: 0x7ffa9ff44b68\n"
     ]
    }
   ],
   "source": [
    "my_val0 = 66  # int\n",
    "my_val1 = 66  # int\n",
    "my_val2 = 512\n",
    "my_val3 = \"\"\n",
    "my_val4 = \"\"\n",
    "my_val5 = True\n",
    "my_val6 = True\n",
    "\n",
    "print_memory(my_val0)\n",
    "print_memory(my_val1)\n",
    "print_memory(my_val2)\n",
    "print_memory(my_val3)\n",
    "print_memory(my_val4)\n",
    "print_memory(my_val5)\n",
    "print_memory(my_val6)\n"
   ]
  },
  {
   "cell_type": "code",
   "execution_count": null,
   "metadata": {},
   "outputs": [],
   "source": []
  },
  {
   "cell_type": "code",
   "execution_count": null,
   "metadata": {},
   "outputs": [],
   "source": []
  }
 ],
 "metadata": {
  "kernelspec": {
   "display_name": ".venv",
   "language": "python",
   "name": "python3"
  },
  "language_info": {
   "codemirror_mode": {
    "name": "ipython",
    "version": 3
   },
   "file_extension": ".py",
   "mimetype": "text/x-python",
   "name": "python",
   "nbconvert_exporter": "python",
   "pygments_lexer": "ipython3",
   "version": "3.10.8"
  },
  "orig_nbformat": 4
 },
 "nbformat": 4,
 "nbformat_minor": 2
}
