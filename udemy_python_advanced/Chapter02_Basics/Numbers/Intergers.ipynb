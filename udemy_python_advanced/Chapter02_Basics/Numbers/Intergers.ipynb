{
 "cells": [
  {
   "attachments": {},
   "cell_type": "markdown",
   "metadata": {},
   "source": [
    "# Integer\n",
    "\n",
    "- C/C++ Javsa: int 32bit/4bytes\n",
    "- python: int object, uses variable bite length\n",
    "  - object hast 24 byte + byte length of integer value\n",
    "\n",
    "\n",
    "Python command/functions\n",
    "- `sys.getsizeof` ...https://docs.python.org/3/library/sys.html#sys.getsizeof\n",
    "- `//` ... floor division"
   ]
  },
  {
   "cell_type": "code",
   "execution_count": 14,
   "metadata": {},
   "outputs": [],
   "source": [
    "import sys\n",
    "import math"
   ]
  },
  {
   "cell_type": "code",
   "execution_count": 15,
   "metadata": {},
   "outputs": [
    {
     "name": "stdout",
     "output_type": "stream",
     "text": [
      "int size: 28 bytes\n"
     ]
    }
   ],
   "source": [
    "int_val = 42\n",
    "print(f\"int size: {sys.getsizeof(int_val)} bytes\")"
   ]
  },
  {
   "cell_type": "code",
   "execution_count": 16,
   "metadata": {},
   "outputs": [
    {
     "name": "stdout",
     "output_type": "stream",
     "text": [
      "int size: 28 bytes\n"
     ]
    }
   ],
   "source": [
    "int_val = 0\n",
    "print(f\"int size: {sys.getsizeof(int_val)} bytes\")"
   ]
  },
  {
   "cell_type": "code",
   "execution_count": 17,
   "metadata": {},
   "outputs": [
    {
     "name": "stdout",
     "output_type": "stream",
     "text": [
      "int size: 40 bytes\n"
     ]
    }
   ],
   "source": [
    "int_val = 2**93\n",
    "print(f\"int size: {sys.getsizeof(int_val)} bytes\")"
   ]
  },
  {
   "attachments": {},
   "cell_type": "markdown",
   "metadata": {},
   "source": [
    "## Arythmetic Operations\n",
    "\n",
    "- (int/int) -> float"
   ]
  },
  {
   "cell_type": "code",
   "execution_count": 18,
   "metadata": {},
   "outputs": [
    {
     "name": "stdout",
     "output_type": "stream",
     "text": [
      "result: 2.0 type: <class 'float'>\n",
      "result: 2 type: <class 'int'>\n"
     ]
    }
   ],
   "source": [
    "# float / int devision\n",
    "\n",
    "result = 10/5\n",
    "print(f\"result: {result} type: {type(result)}\")\n",
    "\n",
    "result = 10//5\n",
    "print(f\"result: {result} type: {type(result)}\")"
   ]
  },
  {
   "cell_type": "code",
   "execution_count": 23,
   "metadata": {},
   "outputs": [
    {
     "name": "stdout",
     "output_type": "stream",
     "text": [
      "my_float: -2.7 type: <class 'float'>\n",
      "my_float as int: -2 type: <class 'int'>\n",
      "\n",
      "floor of my_float: -3 type: <class 'float'>\n",
      "ceil of my_float: -2 type: <class 'int'>\n"
     ]
    }
   ],
   "source": [
    "# float ceiling and floor\n",
    "\n",
    "my_float = -2.7\n",
    "print(f\"my_float: {my_float} type: {type(my_float)}\")\n",
    "print(f\"my_float as int: {int(my_float)} type: {type(int(my_float))}\\n\")\n",
    "\n",
    "\n",
    "my_float = -2.9\n",
    "print(f\"floor of my_float: {math.floor(my_float)} type: {type(my_float)}\")\n",
    "print(f\"ceil of my_float: {math.ceil(my_float)} type: {type(int(my_float))}\")"
   ]
  },
  {
   "cell_type": "code",
   "execution_count": 33,
   "metadata": {},
   "outputs": [
    {
     "name": "stdout",
     "output_type": "stream",
     "text": [
      "my_decimal: 32 type: <class 'int'>\n",
      "my_binary: 5 type: <class 'int'>\n",
      "my_hexa: 66 type: <class 'int'>\n",
      "my_binary2: 101 type: <class 'int'>\n"
     ]
    }
   ],
   "source": [
    "# base of integer\n",
    "# decimal / bin / hex\n",
    "\n",
    "my_decimal = int(\"32\", 10)\n",
    "my_binary = int(\"101\", 2)\n",
    "my_hexa = int(\"42\", base=16)\n",
    "my_binary2 = int(\"101\", 0)\n",
    "\n",
    "\n",
    "print(f\"my_decimal: {my_decimal} type: {type(my_decimal)}\")\n",
    "print(f\"my_binary: {my_binary} type: {type(my_binary)}\")\n",
    "print(f\"my_hexa: {my_hexa} type: {type(my_hexa)}\")\n",
    "print(f\"my_binary2: {my_binary2} type: {type(my_binary2)}\")"
   ]
  },
  {
   "cell_type": "code",
   "execution_count": 34,
   "metadata": {},
   "outputs": [
    {
     "name": "stdout",
     "output_type": "stream",
     "text": [
      "my_decimal: 21 type: <class 'int'>\n",
      "my_binary: 2367409 type: <class 'int'>\n"
     ]
    }
   ],
   "source": [
    "my_bin = 0b010101\n",
    "my_hex = 0x241fb1\n",
    "\n",
    "\n",
    "print(f\"my_decimal: {my_bin} type: {type(my_bin)}\")\n",
    "print(f\"my_binary: {my_hex} type: {type(my_hex)}\")"
   ]
  },
  {
   "cell_type": "code",
   "execution_count": null,
   "metadata": {},
   "outputs": [],
   "source": []
  }
 ],
 "metadata": {
  "kernelspec": {
   "display_name": "venv",
   "language": "python",
   "name": "python3"
  },
  "language_info": {
   "codemirror_mode": {
    "name": "ipython",
    "version": 3
   },
   "file_extension": ".py",
   "mimetype": "text/x-python",
   "name": "python",
   "nbconvert_exporter": "python",
   "pygments_lexer": "ipython3",
   "version": "3.11.2"
  },
  "orig_nbformat": 4
 },
 "nbformat": 4,
 "nbformat_minor": 2
}
