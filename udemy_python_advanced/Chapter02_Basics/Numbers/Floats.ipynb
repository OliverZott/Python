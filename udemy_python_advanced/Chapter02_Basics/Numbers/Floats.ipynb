{
 "cells": [
  {
   "attachments": {},
   "cell_type": "markdown",
   "metadata": {},
   "source": [
    "# Float\n",
    "\n",
    "- C/C++/Java: float (32bits/4byte), double(64bit/8byte)\n",
    "- Python: float (64bit/8byte)\n",
    "- float not exact --> no equality check!!\n",
    "  - `math.isclose`\n",
    "\n",
    "float content:\n",
    "- sign: 1 bit\n",
    "- exponent: 11 bit\n",
    "- mantissa: 52 bit (significant bits)\n",
    "\n",
    "exact numbers:\n",
    "- 0.5, 0.25, 0.125, ...can be exactly represented in binary\n",
    "  -  2^-1, 2^-2, 2^-3, ...\n"
   ]
  },
  {
   "cell_type": "code",
   "execution_count": 16,
   "metadata": {},
   "outputs": [],
   "source": [
    "import math"
   ]
  },
  {
   "attachments": {},
   "cell_type": "markdown",
   "metadata": {},
   "source": [
    "## Float representation not exact"
   ]
  },
  {
   "cell_type": "code",
   "execution_count": 17,
   "metadata": {},
   "outputs": [],
   "source": [
    "def float_print(value):\n",
    "    print(\"{:.32f}\".format(value))"
   ]
  },
  {
   "cell_type": "code",
   "execution_count": 18,
   "metadata": {},
   "outputs": [
    {
     "name": "stdout",
     "output_type": "stream",
     "text": [
      "42.0000000000013\n",
      "42.00000000000130029320644098334014\n"
     ]
    }
   ],
   "source": [
    "my_float = 42.0000000000013\n",
    "print(my_float)\n",
    "float_print(my_float)"
   ]
  },
  {
   "cell_type": "code",
   "execution_count": 19,
   "metadata": {},
   "outputs": [
    {
     "name": "stdout",
     "output_type": "stream",
     "text": [
      "42.50000000000000000000000000000000\n"
     ]
    }
   ],
   "source": [
    "# 0.5, 0.25, 0.125, ...can be exactly represented in binary\n",
    "# 2^-1, 2^-2, 2^-3, ...\n",
    "\n",
    "my_float2 = 42.5\n",
    "float_print(my_float2)"
   ]
  },
  {
   "attachments": {},
   "cell_type": "markdown",
   "metadata": {},
   "source": [
    "## Float equality check"
   ]
  },
  {
   "cell_type": "code",
   "execution_count": 22,
   "metadata": {},
   "outputs": [
    {
     "name": "stdout",
     "output_type": "stream",
     "text": [
      "0.30000000000000004440892098500626\n",
      "False\n"
     ]
    }
   ],
   "source": [
    "# Float equality not exact\n",
    "\n",
    "my_value = 0.1 + 0.1 + 0.1\n",
    "my_value2 = 0.3\n",
    "float_print(my_value)\n",
    "\n",
    "print(my_value == my_value2)"
   ]
  },
  {
   "cell_type": "code",
   "execution_count": 27,
   "metadata": {},
   "outputs": [
    {
     "name": "stdout",
     "output_type": "stream",
     "text": [
      "difference: 5.551115123125783e-17\n",
      "True\n"
     ]
    }
   ],
   "source": [
    "def float_is_equal(value1, value2, eps=1e-7):\n",
    "    difference = math.fabs(value1 - value2)\n",
    "    print(f\"difference: {difference}\")\n",
    "    print(difference < eps)\n",
    "\n",
    "# def float_is_equal(value1, value2, places = 7):\n",
    "    # return round(abs(value1 - value2), places) == 0\n",
    "\n",
    "\n",
    "float_is_equal(my_value, my_value2)"
   ]
  },
  {
   "cell_type": "code",
   "execution_count": 31,
   "metadata": {},
   "outputs": [
    {
     "name": "stdout",
     "output_type": "stream",
     "text": [
      "False\n"
     ]
    }
   ],
   "source": [
    "print(math.isclose(my_value, my_value2, rel_tol=1e-27))"
   ]
  },
  {
   "attachments": {},
   "cell_type": "markdown",
   "metadata": {},
   "source": [
    "## Float Rounding\n"
   ]
  },
  {
   "cell_type": "code",
   "execution_count": 35,
   "metadata": {},
   "outputs": [
    {
     "name": "stdout",
     "output_type": "stream",
     "text": [
      "233.34627\n",
      "230.0\n",
      "233.34627000000000407453626394271851\n"
     ]
    }
   ],
   "source": [
    "my_float = 233.346265472234\n",
    "print(round(my_float, 5))\n",
    "print(round(my_float, -1))\n",
    "float_print(round(my_float, 5))"
   ]
  },
  {
   "cell_type": "code",
   "execution_count": null,
   "metadata": {},
   "outputs": [],
   "source": []
  }
 ],
 "metadata": {
  "kernelspec": {
   "display_name": "venv",
   "language": "python",
   "name": "python3"
  },
  "language_info": {
   "codemirror_mode": {
    "name": "ipython",
    "version": 3
   },
   "file_extension": ".py",
   "mimetype": "text/x-python",
   "name": "python",
   "nbconvert_exporter": "python",
   "pygments_lexer": "ipython3",
   "version": "3.11.2"
  },
  "orig_nbformat": 4
 },
 "nbformat": 4,
 "nbformat_minor": 2
}
