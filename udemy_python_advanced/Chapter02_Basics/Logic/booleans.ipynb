{
 "cells": [
  {
   "attachments": {},
   "cell_type": "markdown",
   "metadata": {},
   "source": [
    "# Booleans\n",
    "- C ... int and bool can be same (1 == true)\n",
    "- in Python NOT\n",
    "\n",
    "- `is` vs `==` \n",
    "    - `is` checks if same object instance (memory adress)\n",
    "    - `is` mostly used to check `is None` / `is True`\n",
    "    - `==` checks value equality"
   ]
  },
  {
   "cell_type": "code",
   "execution_count": 2,
   "metadata": {},
   "outputs": [],
   "source": [
    "import sys"
   ]
  },
  {
   "cell_type": "code",
   "execution_count": 10,
   "metadata": {},
   "outputs": [
    {
     "name": "stdout",
     "output_type": "stream",
     "text": [
      "28\n",
      "28\n",
      "True\n",
      "True\n",
      "False\n",
      "True\n",
      "False\n"
     ]
    }
   ],
   "source": [
    "my_bool = True\n",
    "my_bool2 = False\n",
    "print(sys.getsizeof(my_bool))\n",
    "print(sys.getsizeof(my_bool2))\n",
    "\n",
    "# check if bool is subclass of int\n",
    "print(issubclass(bool, int))\n",
    "print(isinstance(True, bool))\n",
    "print(isinstance(1, bool))\n",
    "\n",
    "\n",
    "# is bool an int?\n",
    "my_int = 1\n",
    "print(my_bool == my_int)\n",
    "print(my_bool is my_int)"
   ]
  },
  {
   "attachments": {},
   "cell_type": "markdown",
   "metadata": {},
   "source": [
    "## Boolean Evaluation\n",
    "\n",
    "- Every object has by default value TRUE, except its: \n",
    "    - None\n",
    "    - False\n",
    "    - 0\n",
    "    - Empty sequence: '', (), []\n",
    "    - Empty mapping: {}"
   ]
  },
  {
   "cell_type": "code",
   "execution_count": 6,
   "metadata": {},
   "outputs": [
    {
     "name": "stdout",
     "output_type": "stream",
     "text": [
      "False\n",
      "False\n",
      "True\n",
      "False\n"
     ]
    }
   ],
   "source": [
    "print(bool(\"\"))\n",
    "print(bool(None))\n",
    "print(bool(\"ssdf\"))\n",
    "print(bool(0))"
   ]
  },
  {
   "attachments": {},
   "cell_type": "markdown",
   "metadata": {},
   "source": [
    "## Operator Order\n",
    "\n",
    "- ()\n",
    "- Comparison perators: `in`, `not in`, `<`, `<=`, `>`, `>=`, `!=`, `==`\n",
    "- `not` \n",
    "- `and` \n",
    "- `or`\n",
    "\n",
    "best practice: Always use () to make code more readable !!!"
   ]
  },
  {
   "attachments": {},
   "cell_type": "markdown",
   "metadata": {},
   "source": [
    "## Boolean Shortcut\n"
   ]
  },
  {
   "cell_type": "code",
   "execution_count": 7,
   "metadata": {},
   "outputs": [],
   "source": [
    "A = True\n",
    "B = False\n",
    "\n",
    "\n",
    "def func_a(a):\n",
    "    print(\"called func_a\")\n",
    "    return a\n",
    "\n",
    "\n",
    "def func_b(b):\n",
    "    print(\"called func_b\")\n",
    "    return b"
   ]
  },
  {
   "cell_type": "code",
   "execution_count": null,
   "metadata": {},
   "outputs": [],
   "source": []
  }
 ],
 "metadata": {
  "kernelspec": {
   "display_name": "venv",
   "language": "python",
   "name": "python3"
  },
  "language_info": {
   "codemirror_mode": {
    "name": "ipython",
    "version": 3
   },
   "file_extension": ".py",
   "mimetype": "text/x-python",
   "name": "python",
   "nbconvert_exporter": "python",
   "pygments_lexer": "ipython3",
   "version": "3.11.2"
  },
  "orig_nbformat": 4
 },
 "nbformat": 4,
 "nbformat_minor": 2
}
