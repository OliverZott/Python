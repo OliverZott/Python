{
 "cells": [
  {
   "attachments": {},
   "cell_type": "markdown",
   "metadata": {},
   "source": [
    "# Variable References and Memory\n",
    "\n",
    "- python interpreter pre-assigns standard values on start:\n",
    "    - True and False for bool\n",
    "    - some low integer values for int\n",
    "    - empty string for str\n",
    "- all variables point to same memory adress for these values\n",
    "- NOT for all datatypes:\n",
    "  - float / complex types \n",
    "  - string with more than 1 character\n",
    "  - containers (list, tuple, dict, set)\n",
    "\n",
    "\n",
    "  **In-Place functions**\n",
    "- some functions change the value of the variable in-place"
   ]
  },
  {
   "cell_type": "code",
   "execution_count": 2,
   "metadata": {},
   "outputs": [],
   "source": [
    "import random"
   ]
  },
  {
   "cell_type": "code",
   "execution_count": 3,
   "metadata": {},
   "outputs": [],
   "source": [
    "def print_memory(var):\n",
    "    print(f\"var: {var}, id: {id(var)}, adr: {hex(id(var))}\")"
   ]
  },
  {
   "cell_type": "code",
   "execution_count": 4,
   "metadata": {},
   "outputs": [
    {
     "name": "stdout",
     "output_type": "stream",
     "text": [
      "var: 66, id: 10883752, adr: 0xa612a8\n",
      "var: 66, id: 10883752, adr: 0xa612a8\n",
      "var: 512, id: 140294911553936, adr: 0x7f98f45df190\n",
      "var: , id: 10903104, adr: 0xa65e40\n",
      "var: , id: 10903104, adr: 0xa65e40\n",
      "var: True, id: 9826464, adr: 0x95f0a0\n",
      "var: True, id: 9826464, adr: 0x95f0a0\n"
     ]
    }
   ],
   "source": [
    "my_val0 = 66  # int\n",
    "my_val1 = 66  # int\n",
    "my_val2 = 512\n",
    "my_val3 = \"\"\n",
    "my_val4 = \"\"\n",
    "my_val5 = True\n",
    "my_val6 = True\n",
    "\n",
    "print_memory(my_val0)\n",
    "print_memory(my_val1)\n",
    "print_memory(my_val2)\n",
    "print_memory(my_val3)\n",
    "print_memory(my_val4)\n",
    "print_memory(my_val5)\n",
    "print_memory(my_val6)"
   ]
  },
  {
   "attachments": {},
   "cell_type": "markdown",
   "metadata": {},
   "source": [
    "## In-Place functions"
   ]
  },
  {
   "cell_type": "code",
   "execution_count": 16,
   "metadata": {},
   "outputs": [],
   "source": [
    "def append_random_value(list):\n",
    "    list.append(random.randint(0, 100))\n",
    "\n",
    "\n",
    "# function returns different list\n",
    "def square_list(list):\n",
    "    print_memory(list)\n",
    "    list = [val**2 for val in list]\n",
    "    print_memory(list)\n",
    "    return list"
   ]
  },
  {
   "cell_type": "code",
   "execution_count": 17,
   "metadata": {},
   "outputs": [
    {
     "name": "stdout",
     "output_type": "stream",
     "text": [
      "[92]\n"
     ]
    }
   ],
   "source": [
    "my_list1 = []\n",
    "append_random_value(my_list1)\n",
    "print(my_list1)"
   ]
  },
  {
   "cell_type": "code",
   "execution_count": 18,
   "metadata": {},
   "outputs": [
    {
     "name": "stdout",
     "output_type": "stream",
     "text": [
      "var: [1, 2, 3, 4], id: 140294908720704, adr: 0x7f98f432b640\n",
      "var: [1, 4, 9, 16], id: 140294908921408, adr: 0x7f98f435c640\n",
      "[1, 4, 9, 16]\n",
      "[1, 2, 3, 4]\n"
     ]
    }
   ],
   "source": [
    "my_list2 = [1, 2, 3, 4]\n",
    "print(square_list(my_list2))\n",
    "print(my_list2)"
   ]
  },
  {
   "cell_type": "code",
   "execution_count": null,
   "metadata": {},
   "outputs": [],
   "source": []
  }
 ],
 "metadata": {
  "kernelspec": {
   "display_name": ".venv",
   "language": "python",
   "name": "python3"
  },
  "language_info": {
   "codemirror_mode": {
    "name": "ipython",
    "version": 3
   },
   "file_extension": ".py",
   "mimetype": "text/x-python",
   "name": "python",
   "nbconvert_exporter": "python",
   "pygments_lexer": "ipython3",
   "version": "3.11.2"
  },
  "orig_nbformat": 4
 },
 "nbformat": 4,
 "nbformat_minor": 2
}
