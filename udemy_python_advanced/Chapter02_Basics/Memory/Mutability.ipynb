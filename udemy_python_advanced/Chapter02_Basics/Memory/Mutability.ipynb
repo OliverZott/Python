{
 "cells": [
  {
   "attachments": {},
   "cell_type": "markdown",
   "metadata": {},
   "source": [
    "# Mutability\n",
    "\n",
    "- Immutable objects:  \n",
    "    - int, float, bool, string, tuple, unicode, range, frozenset, bytes\n",
    "- Mutable objects:\n",
    "    - list, dict, set, bytearray, user-defined classes\n",
    "- deep / shallow copy\n",
    "  - `import copy`\n",
    "\n",
    "https://realpython.com/python-mutable-vs-immutable-types/"
   ]
  },
  {
   "cell_type": "code",
   "execution_count": 3,
   "metadata": {},
   "outputs": [],
   "source": [
    "def print_memory(var):\n",
    "    print(f\"var: {var}, id: {id(var)}, adr: {hex(id(var))}\")"
   ]
  },
  {
   "cell_type": "code",
   "execution_count": 4,
   "metadata": {},
   "outputs": [
    {
     "name": "stdout",
     "output_type": "stream",
     "text": [
      "var: 42, id: 10882984, adr: 0xa60fa8\n",
      "var: 12, id: 10882024, adr: 0xa60be8\n"
     ]
    }
   ],
   "source": [
    "my_int = 42\n",
    "print_memory(my_int)\n",
    "\n",
    "my_int = 12\n",
    "print_memory(my_int)  # now interpreter is pointing to whole different object!"
   ]
  },
  {
   "cell_type": "code",
   "execution_count": 5,
   "metadata": {},
   "outputs": [
    {
     "name": "stdout",
     "output_type": "stream",
     "text": [
      "var: [1, 2, 3], id: 139630600846976, adr: 0x7efe485cfe80\n",
      "var: (1, 2, 3), id: 139630600944000, adr: 0x7efe485e7980\n"
     ]
    }
   ],
   "source": [
    "my_list = [1, 2, 3]\n",
    "print_memory(my_list)\n",
    "\n",
    "my_tuple = (1, 2, 3)\n",
    "print_memory(my_tuple)"
   ]
  },
  {
   "cell_type": "code",
   "execution_count": 6,
   "metadata": {},
   "outputs": [
    {
     "name": "stdout",
     "output_type": "stream",
     "text": [
      "var: [42, 2, 3, 4], id: 139630600846976, adr: 0x7efe485cfe80\n"
     ]
    }
   ],
   "source": [
    "my_list[0] = 42\n",
    "my_list.append(4)\n",
    "print_memory(my_list)"
   ]
  },
  {
   "cell_type": "code",
   "execution_count": 7,
   "metadata": {},
   "outputs": [],
   "source": [
    "# my_tuple[0] = 42  # TypeError: 'tuple' object does not support item assignment"
   ]
  },
  {
   "attachments": {},
   "cell_type": "markdown",
   "metadata": {},
   "source": [
    "## Mutable but NOT In-Place"
   ]
  },
  {
   "cell_type": "code",
   "execution_count": 8,
   "metadata": {},
   "outputs": [],
   "source": [
    "def increment_list(list, increment):\n",
    "    for val in list:  # val local variable (int) NOT mut\n",
    "        # val now pointing to different object (which is not in list!! so the list doesnt get the change)\n",
    "        val += increment\n",
    "    return list\n",
    "\n",
    "\n",
    "def increment_list_inplace(list, increment):\n",
    "    for i in range(len(list)):\n",
    "        list[i] += increment\n",
    "    return list"
   ]
  },
  {
   "cell_type": "code",
   "execution_count": 9,
   "metadata": {},
   "outputs": [
    {
     "name": "stdout",
     "output_type": "stream",
     "text": [
      "var: [42, 2, 3, 4], id: 139630600846976, adr: 0x7efe485cfe80\n",
      "var: [42, 2, 3, 4], id: 139630600846976, adr: 0x7efe485cfe80\n"
     ]
    }
   ],
   "source": [
    "print_memory(my_list)\n",
    "my_list = increment_list(my_list, 1)\n",
    "print_memory(my_list)"
   ]
  },
  {
   "cell_type": "code",
   "execution_count": 10,
   "metadata": {},
   "outputs": [
    {
     "name": "stdout",
     "output_type": "stream",
     "text": [
      "var: [42, 2, 3, 4], id: 139630600846976, adr: 0x7efe485cfe80\n",
      "var: 42, id: 10882984, adr: 0xa60fa8\n",
      "var: [44, 4, 5, 6], id: 139630600846976, adr: 0x7efe485cfe80\n",
      "var: 44, id: 10883048, adr: 0xa60fe8\n"
     ]
    }
   ],
   "source": [
    "print_memory(my_list)\n",
    "print_memory(my_list[0])\n",
    "my_list = increment_list_inplace(my_list, 2)\n",
    "# list memory adress is the same, but the values are different\n",
    "print_memory(my_list)\n",
    "print_memory(my_list[0])"
   ]
  },
  {
   "cell_type": "code",
   "execution_count": 11,
   "metadata": {},
   "outputs": [
    {
     "name": "stdout",
     "output_type": "stream",
     "text": [
      "var: 2, id: 10881704, adr: 0xa60aa8\n",
      "var: 3, id: 10881736, adr: 0xa60ac8\n",
      "3\n"
     ]
    }
   ],
   "source": [
    "i = 2\n",
    "print_memory(i)\n",
    "i += 1\n",
    "print_memory(i)  # now pointing to different object\n",
    "print(i)"
   ]
  },
  {
   "attachments": {},
   "cell_type": "markdown",
   "metadata": {},
   "source": [
    "## Mutable with In-Place\n",
    "\n",
    "`=\"` calls  `__iadd__`\n"
   ]
  },
  {
   "cell_type": "code",
   "execution_count": 14,
   "metadata": {},
   "outputs": [],
   "source": [
    "def concat_list(list1, list2):\n",
    "    return list1 + list2\n",
    "\n",
    "\n",
    "def concat_list_inplace(list1, list2):\n",
    "    # list1.extend(list2)\n",
    "    list1 += list2"
   ]
  },
  {
   "cell_type": "code",
   "execution_count": 19,
   "metadata": {},
   "outputs": [
    {
     "name": "stdout",
     "output_type": "stream",
     "text": [
      "var: [1, 2, 3], id: 139630600897728, adr: 0x7efe485dc4c0\n",
      "var: [4, 5, 6], id: 139630600816640, adr: 0x7efe485c8800\n",
      "var: [1, 2, 3, 4, 5, 6], id: 139630661023616, adr: 0x7efe4bf33780\n",
      "var: [4, 5, 6], id: 139630600816640, adr: 0x7efe485c8800\n"
     ]
    }
   ],
   "source": [
    "l1 = [1, 2, 3]\n",
    "l2 = [4, 5, 6]\n",
    "\n",
    "print_memory(l1)\n",
    "print_memory(l2)\n",
    "l1 = concat_list(l1, l2)\n",
    "print_memory(l1)\n",
    "print_memory(l2)"
   ]
  },
  {
   "cell_type": "code",
   "execution_count": 18,
   "metadata": {},
   "outputs": [
    {
     "name": "stdout",
     "output_type": "stream",
     "text": [
      "var: [1, 2, 3], id: 139630600897728, adr: 0x7efe485dc4c0\n",
      "var: [4, 5, 6], id: 139630661022656, adr: 0x7efe4bf333c0\n",
      "var: None, id: 9825472, adr: 0x95ecc0\n",
      "var: [4, 5, 6], id: 139630661022656, adr: 0x7efe4bf333c0\n"
     ]
    }
   ],
   "source": [
    "l1 = [1, 2, 3]\n",
    "l2 = [4, 5, 6]\n",
    "\n",
    "print_memory(l1)\n",
    "print_memory(l2)\n",
    "l1 = concat_list_inplace(l1, l2)\n",
    "print_memory(l1)\n",
    "print_memory(l2)"
   ]
  },
  {
   "attachments": {},
   "cell_type": "markdown",
   "metadata": {},
   "source": [
    "## Shallow and Deep Copy\n",
    "(flache und tiefe kopie)\n",
    "\n",
    "- shallow copy: `copy.copy()`\n",
    "    - just copies sublist, not the int values\n",
    "    - just copies the first \"level\"\n",
    "- deep copy: `copy.deepcopy()`\n",
    "    - makes \"real\" copy of everything\n",
    "    - copies everything, including int values\n",
    "    - copies every mutable level of sublists"
   ]
  },
  {
   "cell_type": "code",
   "execution_count": 30,
   "metadata": {},
   "outputs": [
    {
     "name": "stdout",
     "output_type": "stream",
     "text": [
      "var: [[1, 2], [3, 4]], id: 139630661065856, adr: 0x7efe4bf3dc80\n",
      "var: [1, 2], id: 139630600873472, adr: 0x7efe485d6600\n",
      "var: 1, id: 10881672, adr: 0xa60a88\n"
     ]
    }
   ],
   "source": [
    "list1 = [[1, 2], [3, 4]]\n",
    "print_memory(list1)\n",
    "print_memory(list1[0])  # sub-list\n",
    "print_memory(list1[0][0])  # sub-list"
   ]
  },
  {
   "cell_type": "code",
   "execution_count": 31,
   "metadata": {},
   "outputs": [
    {
     "name": "stdout",
     "output_type": "stream",
     "text": [
      "var: [[42, 2], [3, 4]], id: 139630661065856, adr: 0x7efe4bf3dc80\n",
      "var: [42, 2], id: 139630600873472, adr: 0x7efe485d6600\n",
      "var: 42, id: 10882984, adr: 0xa60fa8\n"
     ]
    }
   ],
   "source": [
    "list1[0][0] = 42\n",
    "print_memory(list1)\n",
    "print_memory(list1[0])  # sub-list\n",
    "print_memory(list1[0][0])  # sub-list, now pointing to other int memory adress"
   ]
  },
  {
   "cell_type": "code",
   "execution_count": 32,
   "metadata": {},
   "outputs": [],
   "source": [
    "import copy"
   ]
  },
  {
   "cell_type": "code",
   "execution_count": 33,
   "metadata": {},
   "outputs": [
    {
     "name": "stdout",
     "output_type": "stream",
     "text": [
      "var: [[42, 2], [3, 4]], id: 139630600892416, adr: 0x7efe485db000\n",
      "var: [42, 2], id: 139630600873472, adr: 0x7efe485d6600\n",
      "var: 42, id: 10882984, adr: 0xa60fa8\n"
     ]
    }
   ],
   "source": [
    "list_shallow = copy.copy(list1)\n",
    "print_memory(list_shallow)\n",
    "print_memory(list_shallow[0])\n",
    "print_memory(list_shallow[0][0])"
   ]
  },
  {
   "cell_type": "code",
   "execution_count": 29,
   "metadata": {},
   "outputs": [
    {
     "name": "stdout",
     "output_type": "stream",
     "text": [
      "var: [[42, 2], [3, 4]], id: 139630661062400, adr: 0x7efe4bf3cf00\n",
      "var: [42, 2], id: 139630661022208, adr: 0x7efe4bf33200\n",
      "var: 42, id: 10882984, adr: 0xa60fa8\n"
     ]
    }
   ],
   "source": [
    "list_deep = copy.deepcopy(list1)\n",
    "print_memory(list_deep)\n",
    "print_memory(list_deep[0])\n",
    "print_memory(list_deep[0][0])"
   ]
  },
  {
   "cell_type": "code",
   "execution_count": null,
   "metadata": {},
   "outputs": [],
   "source": []
  }
 ],
 "metadata": {
  "kernelspec": {
   "display_name": "venv",
   "language": "python",
   "name": "python3"
  },
  "language_info": {
   "codemirror_mode": {
    "name": "ipython",
    "version": 3
   },
   "file_extension": ".py",
   "mimetype": "text/x-python",
   "name": "python",
   "nbconvert_exporter": "python",
   "pygments_lexer": "ipython3",
   "version": "3.11.2"
  },
  "orig_nbformat": 4
 },
 "nbformat": 4,
 "nbformat_minor": 2
}
