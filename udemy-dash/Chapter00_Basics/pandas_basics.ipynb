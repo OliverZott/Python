{
 "cells": [
  {
   "attachments": {},
   "cell_type": "markdown",
   "metadata": {},
   "source": [
    "# Pandas Basics\n",
    "\n",
    "- Import\n",
    "- Access cols and rows\n",
    "- Aggregate, filter, sort\n",
    "- Infos\n",
    "- generate pandas df from numpy array"
   ]
  },
  {
   "cell_type": "code",
   "execution_count": 27,
   "metadata": {},
   "outputs": [],
   "source": [
    "import pandas as pd\n",
    "import numpy as np"
   ]
  },
  {
   "cell_type": "code",
   "execution_count": 28,
   "metadata": {},
   "outputs": [
    {
     "name": "stdout",
     "output_type": "stream",
     "text": [
      "        Salary  Age\n",
      "Name               \n",
      "John     50000   34\n",
      "Sally   120000   45\n",
      "Alyssa   80000   27\n"
     ]
    }
   ],
   "source": [
    "df = pd.read_csv('../data/salaries.csv', index_col=0)\n",
    "print(df)"
   ]
  },
  {
   "attachments": {},
   "cell_type": "markdown",
   "metadata": {},
   "source": [
    "## Use Columns and Rows"
   ]
  },
  {
   "cell_type": "code",
   "execution_count": 29,
   "metadata": {},
   "outputs": [
    {
     "name": "stdout",
     "output_type": "stream",
     "text": [
      "Name\n",
      "John       50000\n",
      "Sally     120000\n",
      "Alyssa     80000\n",
      "Name: Salary, dtype: int64\n"
     ]
    }
   ],
   "source": [
    "print(df['Salary'])"
   ]
  },
  {
   "cell_type": "code",
   "execution_count": 30,
   "metadata": {},
   "outputs": [
    {
     "name": "stdout",
     "output_type": "stream",
     "text": [
      "Age          34\n",
      "Salary    50000\n",
      "Name: John, dtype: int64\n"
     ]
    }
   ],
   "source": [
    "print(df[['Age', 'Salary']].loc[\"John\"])"
   ]
  },
  {
   "cell_type": "code",
   "execution_count": 31,
   "metadata": {},
   "outputs": [
    {
     "name": "stdout",
     "output_type": "stream",
     "text": [
      "       Age  Salary\n",
      "Name              \n",
      "Sally   45  120000\n",
      "John    34   50000\n"
     ]
    }
   ],
   "source": [
    "print(df[['Age', 'Salary']].loc[[\"Sally\", \"John\"]])"
   ]
  },
  {
   "attachments": {},
   "cell_type": "markdown",
   "metadata": {},
   "source": [
    "## Aggregation / Filters / Sort"
   ]
  },
  {
   "cell_type": "code",
   "execution_count": 32,
   "metadata": {},
   "outputs": [
    {
     "name": "stdout",
     "output_type": "stream",
     "text": [
      "35.333333333333336\n",
      "\n",
      "\n",
      "Name\n",
      "John       True\n",
      "Sally      True\n",
      "Alyssa    False\n",
      "Name: Age, dtype: bool\n",
      "\n",
      "\n",
      "       Salary  Age\n",
      "Name              \n",
      "John    50000   34\n",
      "Sally  120000   45\n",
      "\n",
      "\n"
     ]
    }
   ],
   "source": [
    "print(df[\"Age\"].mean())\n",
    "print(\"\\n\")\n",
    "\n",
    "print(df[\"Age\"] > 30)\n",
    "print(\"\\n\")\n",
    "\n",
    "age_filter = df[\"Age\"] > 30\n",
    "print(df[age_filter])\n",
    "print(\"\\n\")"
   ]
  },
  {
   "cell_type": "code",
   "execution_count": 33,
   "metadata": {},
   "outputs": [
    {
     "name": "stdout",
     "output_type": "stream",
     "text": [
      "3\n",
      "[34 45 27]\n"
     ]
    }
   ],
   "source": [
    "# nice to check if null values (e.g. if only male / female)\n",
    "print(df[\"Age\"].nunique())\n",
    "\n",
    "print(df[\"Age\"].unique())"
   ]
  },
  {
   "cell_type": "code",
   "execution_count": 34,
   "metadata": {},
   "outputs": [
    {
     "name": "stdout",
     "output_type": "stream",
     "text": [
      "        Salary  Age\n",
      "Name               \n",
      "Sally   120000   45\n",
      "Alyssa   80000   27\n",
      "John     50000   34\n"
     ]
    }
   ],
   "source": [
    "print(df.sort_values(\"Salary\", ascending=False))"
   ]
  },
  {
   "attachments": {},
   "cell_type": "markdown",
   "metadata": {},
   "source": [
    "## Infos"
   ]
  },
  {
   "cell_type": "code",
   "execution_count": 35,
   "metadata": {},
   "outputs": [
    {
     "name": "stdout",
     "output_type": "stream",
     "text": [
      "<class 'pandas.core.frame.DataFrame'>\n",
      "Index: 3 entries, John to Alyssa\n",
      "Data columns (total 2 columns):\n",
      " #   Column  Non-Null Count  Dtype\n",
      "---  ------  --------------  -----\n",
      " 0   Salary  3 non-null      int64\n",
      " 1   Age     3 non-null      int64\n",
      "dtypes: int64(2)\n",
      "memory usage: 180.0+ bytes\n",
      "None\n",
      "\n",
      "\n",
      "              Salary        Age\n",
      "count       3.000000   3.000000\n",
      "mean    83333.333333  35.333333\n",
      "std     35118.845843   9.073772\n",
      "min     50000.000000  27.000000\n",
      "25%     65000.000000  30.500000\n",
      "50%     80000.000000  34.000000\n",
      "75%    100000.000000  39.500000\n",
      "max    120000.000000  45.000000\n",
      "\n",
      "\n",
      "Index(['Salary', 'Age'], dtype='object')\n",
      "\n",
      "\n",
      "Index(['John', 'Sally', 'Alyssa'], dtype='object', name='Name')\n",
      "\n",
      "\n"
     ]
    }
   ],
   "source": [
    "print(df.info())\n",
    "print(\"\\n\")\n",
    "\n",
    "print(df.describe())\n",
    "print(\"\\n\")\n",
    "\n",
    "print(df.columns)\n",
    "print(\"\\n\")\n",
    "\n",
    "print(df.index)\n",
    "print(\"\\n\")"
   ]
  },
  {
   "attachments": {},
   "cell_type": "markdown",
   "metadata": {},
   "source": [
    "## Numpy to Pandas"
   ]
  },
  {
   "cell_type": "code",
   "execution_count": 36,
   "metadata": {},
   "outputs": [
    {
     "name": "stdout",
     "output_type": "stream",
     "text": [
      "    a   b   c   d   e   f   g   h   i   j\n",
      "A   0   1   2   3   4   5   6   7   8   9\n",
      "B  10  11  12  13  14  15  16  17  18  19\n",
      "C  20  21  22  23  24  25  26  27  28  29\n",
      "D  30  31  32  33  34  35  36  37  38  39\n",
      "E  40  41  42  43  44  45  46  47  48  49\n"
     ]
    }
   ],
   "source": [
    "mat = np.arange(0, 50).reshape(5, 10)\n",
    "df_mat = pd.DataFrame(data=mat, index=[\"A\", \"B\", \"C\", \"D\", \"E\"], columns=[\n",
    "                      \"a b c d e f g h i j\".split(\" \")])\n",
    "print(df_mat)"
   ]
  }
 ],
 "metadata": {
  "kernelspec": {
   "display_name": "venv",
   "language": "python",
   "name": "python3"
  },
  "language_info": {
   "codemirror_mode": {
    "name": "ipython",
    "version": 3
   },
   "file_extension": ".py",
   "mimetype": "text/x-python",
   "name": "python",
   "nbconvert_exporter": "python",
   "pygments_lexer": "ipython3",
   "version": "3.10.8"
  },
  "orig_nbformat": 4
 },
 "nbformat": 4,
 "nbformat_minor": 2
}
