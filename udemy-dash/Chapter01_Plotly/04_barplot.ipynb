{
 "cells": [
  {
   "attachments": {},
   "cell_type": "markdown",
   "metadata": {},
   "source": [
    "# Barplot (Balkendiagramm)\n",
    "\n",
    "- barplot shows categorical data\n",
    "- height, length proportional to the values they represent\n",
    "- barplot is a good choice when you want to show how some quantity varies among some discrete set of items\n",
    "- x axis is categorical (category), y axis is numerical (value)\n",
    "- y axis can be **aggregation**: count, sum, average, median, etc.\n",
    "\n",
    "Reminder:\n",
    "- categorical:\n",
    "    e.g. sex, smoker, day\n",
    "- continuous:\n",
    "    e.g. total_bill, tip, size"
   ]
  },
  {
   "cell_type": "code",
   "execution_count": null,
   "metadata": {},
   "outputs": [],
   "source": []
  }
 ],
 "metadata": {
  "language_info": {
   "name": "python"
  },
  "orig_nbformat": 4
 },
 "nbformat": 4,
 "nbformat_minor": 2
}
