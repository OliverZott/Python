{
 "cells": [
  {
   "attachments": {},
   "cell_type": "markdown",
   "metadata": {},
   "source": [
    "# Boxplot\n",
    "\n",
    "- are used to show the distribution of numerical data and skewness through displaying the data quartiles (or percentiles) and averages.\n",
    "- are used to detect outliers in data.\n",
    "- we can split data based on categorical data and compare continuous data between feature.\n",
    "\n",
    "## Boxplot basics\n",
    "\n",
    "- IQR (interquantil range) = Q3 - Q1\n",
    "- Whiskers show max and min values (data range)\n",
    "- Ausreißer = 1.5 * IQR (lower or higher) are shownm as single points above Whiskers\n"
   ]
  },
  {
   "cell_type": "code",
   "execution_count": 1,
   "metadata": {},
   "outputs": [],
   "source": [
    "import plotly.offline as pyo\n",
    "import plotly.graph_objs as go"
   ]
  },
  {
   "cell_type": "code",
   "execution_count": 2,
   "metadata": {},
   "outputs": [
    {
     "data": {
      "text/plain": [
       "'temp-plot.html'"
      ]
     },
     "execution_count": 2,
     "metadata": {},
     "output_type": "execute_result"
    }
   ],
   "source": [
    "y = [1, 14, 14, 15, 16, 18, 18, 19, 19, 20, 20, 23, 24, 26, 27, 27, 28, 29, 33, 54]\n",
    "\n",
    "data = [go.Box(y=y, boxpoints=\"all\", jitter=0.3, pointpos=1.5)]\n",
    "\n",
    "pyo.plot(data)"
   ]
  },
  {
   "attachments": {},
   "cell_type": "markdown",
   "metadata": {},
   "source": [
    "## Mark-Twain analysis"
   ]
  },
  {
   "cell_type": "code",
   "execution_count": 3,
   "metadata": {},
   "outputs": [
    {
     "data": {
      "text/plain": [
       "'temp-plot.html'"
      ]
     },
     "execution_count": 3,
     "metadata": {},
     "output_type": "execute_result"
    }
   ],
   "source": [
    "snodgrass = [0.209, 0.205, 0.196, 0.210, 0.202, 0.207, 0.224, 0.223, 0.220, 0.201]\n",
    "twain = [0.225, 0.262, 0.217, 0.240, 0.230, 0.229, 0.235, 0.217]\n",
    "\n",
    "data = [go.Box(y=snodgrass, name=\"snodgras\"), go.Box(y=twain, name=\"twain\")]\n",
    "\n",
    "pyo.plot(data)"
   ]
  }
 ],
 "metadata": {
  "kernelspec": {
   "display_name": ".venv",
   "language": "python",
   "name": "python3"
  },
  "language_info": {
   "codemirror_mode": {
    "name": "ipython",
    "version": 3
   },
   "file_extension": ".py",
   "mimetype": "text/x-python",
   "name": "python",
   "nbconvert_exporter": "python",
   "pygments_lexer": "ipython3",
   "version": "3.10.8"
  },
  "orig_nbformat": 4
 },
 "nbformat": 4,
 "nbformat_minor": 2
}
