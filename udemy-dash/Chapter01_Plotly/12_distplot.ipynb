{
 "cells": [
  {
   "attachments": {},
   "cell_type": "markdown",
   "metadata": {},
   "source": [
    "# Distplot\n",
    "\n",
    "- **Verteilungsdiagramm**... mostly an overlay of a **Histogram**, a \"Rug\"-Plot (markers for each datapoint on x-axis) and a **KDE** (Kernel Density Estimation) plot"
   ]
  },
  {
   "cell_type": "code",
   "execution_count": 1,
   "metadata": {},
   "outputs": [],
   "source": [
    "import numpy as np\n",
    "import plotly.offline as pyo\n",
    "import plotly.figure_factory as ff"
   ]
  },
  {
   "cell_type": "code",
   "execution_count": 2,
   "metadata": {},
   "outputs": [],
   "source": [
    "x = np.random.randn(2000)\n",
    "\n",
    "\n",
    "x1 = np.random.randn(300) - 2\n",
    "x2 = np.random.randn(300)\n",
    "x3 = np.random.randn(300) + 2\n",
    "x4 = np.random.randn(300) + 4"
   ]
  },
  {
   "cell_type": "code",
   "execution_count": 3,
   "metadata": {},
   "outputs": [
    {
     "data": {
      "text/plain": [
       "'temp-plot.html'"
      ]
     },
     "execution_count": 3,
     "metadata": {},
     "output_type": "execute_result"
    }
   ],
   "source": [
    "data = [x]\n",
    "\n",
    "group_labels = [\"distplot\"]\n",
    "\n",
    "fig = ff.create_distplot(hist_data=data, group_labels=group_labels)\n",
    "\n",
    "pyo.plot(fig)"
   ]
  },
  {
   "attachments": {},
   "cell_type": "markdown",
   "metadata": {},
   "source": [
    "## Several dist plots"
   ]
  },
  {
   "cell_type": "code",
   "execution_count": 4,
   "metadata": {},
   "outputs": [
    {
     "data": {
      "text/plain": [
       "'temp-plot.html'"
      ]
     },
     "execution_count": 4,
     "metadata": {},
     "output_type": "execute_result"
    }
   ],
   "source": [
    "data = [x1, x2, x3, x4]\n",
    "\n",
    "group_labels = [\"X1\", \"X2\", \"X3\", \"X4\"]\n",
    "\n",
    "fig = ff.create_distplot(\n",
    "    hist_data=data, group_labels=group_labels, bin_size=[0.2, 0.1, 0.3, 0.4]\n",
    ")\n",
    "\n",
    "pyo.plot(fig)"
   ]
  },
  {
   "attachments": {},
   "cell_type": "markdown",
   "metadata": {},
   "source": [
    "## Twain Example\n",
    "\n",
    "\n"
   ]
  },
  {
   "cell_type": "code",
   "execution_count": 5,
   "metadata": {},
   "outputs": [
    {
     "data": {
      "text/plain": [
       "'temp-plot.html'"
      ]
     },
     "execution_count": 5,
     "metadata": {},
     "output_type": "execute_result"
    }
   ],
   "source": [
    "snodgrass = [0.209, 0.205, 0.196, 0.210, 0.202, 0.207, 0.224, 0.223, 0.220, 0.201]\n",
    "twain = [0.225, 0.262, 0.217, 0.240, 0.230, 0.229, 0.235, 0.217]\n",
    "\n",
    "data = [snodgrass, twain]\n",
    "\n",
    "group_labels = [\"snodgrass\", \"twain\"]\n",
    "\n",
    "fig = ff.create_distplot(\n",
    "    hist_data=data, group_labels=group_labels, bin_size=[0.004, 0.004]\n",
    ")\n",
    "\n",
    "pyo.plot(fig)"
   ]
  }
 ],
 "metadata": {
  "kernelspec": {
   "display_name": ".venv",
   "language": "python",
   "name": "python3"
  },
  "language_info": {
   "codemirror_mode": {
    "name": "ipython",
    "version": 3
   },
   "file_extension": ".py",
   "mimetype": "text/x-python",
   "name": "python",
   "nbconvert_exporter": "python",
   "pygments_lexer": "ipython3",
   "version": "3.10.8"
  },
  "orig_nbformat": 4
 },
 "nbformat": 4,
 "nbformat_minor": 2
}
