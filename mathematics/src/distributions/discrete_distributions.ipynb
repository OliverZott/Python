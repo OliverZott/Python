{
 "cells": [
  {
   "cell_type": "markdown",
   "metadata": {},
   "source": [
    "# Discrete Distributions\n",
    "\n",
    "- Bernoulli Distribution\n",
    "- Binomial Distribution\n"
   ]
  },
  {
   "cell_type": "markdown",
   "metadata": {},
   "source": [
    "## Bernoulli Distribution\n",
    "\n",
    "$$\n",
    "f(k) = \\begin{cases}\n",
    "1 - p & \\text{if } k = 0 \\\\\n",
    "p & \\text{if } k = 1 \\\\\n",
    "\\end{cases}\n",
    "\n",
    "$$\n",
    "\n",
    "- **p** ... probability of success \n",
    "- **k** ... number of successes\n",
    "- **pmf()** ...probability mass function. Method takes these two parameters as input and returns the pmf value for the given k and p\n"
   ]
  },
  {
   "cell_type": "code",
   "execution_count": 2,
   "metadata": {},
   "outputs": [],
   "source": [
    "import matplotlib.pyplot as plt\n",
    "import numpy as np\n",
    "import plotly.express as px\n",
    "from scipy.stats import bernoulli\n"
   ]
  },
  {
   "cell_type": "code",
   "execution_count": 22,
   "metadata": {},
   "outputs": [
    {
     "name": "stdout",
     "output_type": "stream",
     "text": [
      "0.3\n",
      "0.7000000000000002\n",
      "0.3\n",
      "[0 0 0 1 0 0 0 1 0 1 0 0 1 0 0 1 0 0 1 0]\n"
     ]
    },
    {
     "ename": "AttributeError",
     "evalue": "'numpy.ndarray' object has no attribute 'count'",
     "output_type": "error",
     "traceback": [
      "\u001b[1;31m---------------------------------------------------------------------------\u001b[0m",
      "\u001b[1;31mAttributeError\u001b[0m                            Traceback (most recent call last)",
      "Cell \u001b[1;32mIn[22], line 13\u001b[0m\n\u001b[0;32m     11\u001b[0m trials \u001b[39m=\u001b[39m bernoulliDist\u001b[39m.\u001b[39mrvs(\u001b[39m20\u001b[39m)\n\u001b[0;32m     12\u001b[0m \u001b[39mprint\u001b[39m(trials)\n\u001b[1;32m---> 13\u001b[0m \u001b[39mprint\u001b[39m(trials\u001b[39m.\u001b[39;49mcount(\u001b[39m0\u001b[39m))\n\u001b[0;32m     14\u001b[0m \u001b[39mprint\u001b[39m(np\u001b[39m.\u001b[39mcount_nonzero(trials \u001b[39m==\u001b[39m \u001b[39m0\u001b[39m))\n",
      "\u001b[1;31mAttributeError\u001b[0m: 'numpy.ndarray' object has no attribute 'count'"
     ]
    }
   ],
   "source": [
    "p = 0.3  # probability of success\n",
    "k = 1  # number of successes\n",
    "print(bernoulli.pmf(k, p))\n",
    "\n",
    "#  probability if success one time, is given by the probability mass function (PMF)\n",
    "bernoulliDist = bernoulli(p)\n",
    "print(bernoulliDist.pmf(0))\n",
    "print(bernoulliDist.pmf(1))\n",
    "\n",
    "# simulate 10 Bernoulli trials with\n",
    "trials = bernoulliDist.rvs(20)\n",
    "print(trials)\n",
    "# print(trials.count(0))\n",
    "print(np.count_nonzero(trials == 0))\n",
    "print(np.count_nonzero(trials == 1))"
   ]
  },
  {
   "cell_type": "code",
   "execution_count": 23,
   "metadata": {},
   "outputs": [
    {
     "data": {
      "image/png": "[encoded data removed]",
      "text/plain": [
       "<Figure size 640x480 with 1 Axes>"
      ]
     },
     "metadata": {},
     "output_type": "display_data"
    }
   ],
   "source": [
    "p = [0.1, 0.3, 0.5, 0.7, 0.9]  # probability of success\n",
    "x = [0, 1]  # number of successes\n",
    "\n",
    "# Plotting with plotly\n",
    "# fig = px.bar(\n",
    "#     x=x,\n",
    "#     y=[bernoulli.pmf(x, i) for i in p],\n",
    "#     barmode=\"group\",\n",
    "#     labels={\"x\": \"Number of successes\", \"y\": \"Probability\"},\n",
    "#     title=\"Bernoulli Distribution\",\n",
    "# )\n",
    "# fig.show()\n",
    "\n",
    "# Plotting with matplotlib.pyplot\n",
    "for i in p:\n",
    "    pmf = bernoulli.pmf(x, i)\n",
    "    plt.stem(x, pmf)\n",
    "plt.xlabel(\"Number of successes\")\n",
    "plt.ylabel(\"Probability\")\n",
    "plt.title(\"Bernoulli Distribution\")\n",
    "plt.show()"
   ]
  }
 ],
 "metadata": {
  "kernelspec": {
   "display_name": ".venv",
   "language": "python",
   "name": "python3"
  },
  "language_info": {
   "codemirror_mode": {
    "name": "ipython",
    "version": 3
   },
   "file_extension": ".py",
   "mimetype": "text/x-python",
   "name": "python",
   "nbconvert_exporter": "python",
   "pygments_lexer": "ipython3",
   "version": "3.11.4"
  },
  "orig_nbformat": 4
 },
 "nbformat": 4,
 "nbformat_minor": 2
}
